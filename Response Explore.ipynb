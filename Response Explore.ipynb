{
 "cells": [
  {
   "cell_type": "code",
   "execution_count": 1,
   "metadata": {},
   "outputs": [
    {
     "name": "stderr",
     "output_type": "stream",
     "text": [
      "/home/harsh/CourseworkRepo/HMIAnalysis/env/lib/python3.7/site-packages/h5py/__init__.py:39: UserWarning: h5py is running against HDF5 1.12.2 when it was built against 1.12.1, this may cause problems\n",
      "  '{0}.{1}.{2}'.format(*version.hdf5_built_version_tuple)\n"
     ]
    }
   ],
   "source": [
    "%matplotlib qt5\n",
    "import h5py\n",
    "import numpy as np\n",
    "import matplotlib.pyplot as plt\n",
    "import scipy.ndimage\n",
    "from sklearn.decomposition import PCA"
   ]
  },
  {
   "cell_type": "code",
   "execution_count": 71,
   "metadata": {},
   "outputs": [],
   "source": [
    "f = h5py.File('/home/harsh/SpinorNagaraju/maps_1/stic/RPs_plots/rps_atmos_30_response.nc', 'r')\n",
    "fo = h5py.File('aligned_Ca_Ha_stic_profiles.nc', 'r')"
   ]
  },
  {
   "cell_type": "code",
   "execution_count": 121,
   "metadata": {},
   "outputs": [],
   "source": [
    "fa = h5py.File('/home/harsh/SpinorNagaraju/maps_1/stic/fulldata_inversions/rps_atmos_30.nc', 'r')"
   ]
  },
  {
   "cell_type": "code",
   "execution_count": 72,
   "metadata": {},
   "outputs": [],
   "source": [
    "ind = np.where(fo['profiles'][0, 0, 0, :, 0] != 0)[0]"
   ]
  },
  {
   "cell_type": "code",
   "execution_count": 73,
   "metadata": {},
   "outputs": [
    {
     "data": {
      "text/plain": [
       "(750,)"
      ]
     },
     "execution_count": 73,
     "metadata": {},
     "output_type": "execute_result"
    }
   ],
   "source": [
    "ind.shape"
   ]
  },
  {
   "cell_type": "code",
   "execution_count": 74,
   "metadata": {},
   "outputs": [
    {
     "data": {
      "text/plain": [
       "array([8535.16582, 8535.19954, 8535.23326, 8535.26698, 8535.3007 ,\n",
       "       8535.33442, 8535.36814, 8535.40186, 8535.43558, 8535.4693 ,\n",
       "       8535.50302, 8535.53674, 8535.57046, 8535.60418, 8535.6379 ,\n",
       "       8535.67162, 8535.70534, 8535.73906, 8535.77278, 8535.8065 ,\n",
       "       8535.84022, 8535.87394, 8535.90766, 8535.94138, 8535.9751 ,\n",
       "       8536.00882, 8536.04254, 8536.07626, 8536.10998, 8536.1437 ,\n",
       "       8536.17742, 8536.21114, 8536.24486, 8536.27858, 8536.3123 ,\n",
       "       8536.34602, 8536.37974, 8536.41346, 8536.44718, 8536.4809 ,\n",
       "       8536.51462, 8536.54834, 8536.58206, 8536.61578, 8536.6495 ,\n",
       "       8536.68322, 8536.71694, 8536.75066, 8536.78438, 8536.8181 ,\n",
       "       8536.85182, 8536.88554, 8536.91926, 8536.95298, 8536.9867 ,\n",
       "       8537.02042, 8537.05414, 8537.08786, 8537.18962, 8537.22334,\n",
       "       8537.25706, 8537.29078, 8537.3245 , 8537.35822, 8537.39194,\n",
       "       8537.42566, 8537.45938, 8537.4931 , 8537.52682, 8537.56054,\n",
       "       8537.59426, 8537.62798, 8537.6617 , 8537.69542, 8537.72914,\n",
       "       8537.76286, 8537.79658, 8537.8303 , 8537.86402, 8537.89774,\n",
       "       8537.93146, 8537.96518, 8537.9989 , 8538.03262, 8538.06634,\n",
       "       8538.10006, 8538.13378, 8538.1675 , 8538.20122, 8538.23494,\n",
       "       8538.26866, 8538.30238, 8538.3361 , 8538.36982, 8538.40354,\n",
       "       8538.43726, 8538.47098, 8538.57255, 8538.60627, 8538.63999,\n",
       "       8538.67371, 8538.70743, 8538.74115, 8538.77487, 8538.80859,\n",
       "       8538.84231, 8538.87603, 8538.90975, 8538.94347, 8538.97719,\n",
       "       8539.01091, 8539.04463, 8539.07835, 8539.11207, 8539.14579,\n",
       "       8539.17951, 8539.21323, 8539.24695, 8539.28067, 8539.31439,\n",
       "       8539.34811, 8539.38183, 8539.41555, 8539.44927, 8539.48299,\n",
       "       8539.51671, 8539.55043, 8539.58415, 8539.61787, 8539.65159,\n",
       "       8539.68531, 8539.71903, 8539.75275, 8539.78647, 8539.82019,\n",
       "       8539.85391, 8539.88763, 8539.92135, 8539.95507, 8539.98879,\n",
       "       8540.02251, 8540.05623, 8540.08995, 8540.12367, 8540.15739,\n",
       "       8540.19111, 8540.22483, 8540.25855, 8540.29227, 8540.32599,\n",
       "       8540.35971, 8540.39343, 8540.42715, 8540.46087, 8540.49459,\n",
       "       8540.52831, 8540.56203, 8540.59575, 8540.62947, 8540.66319,\n",
       "       8540.69691, 8540.73063, 8540.76435, 8540.79807, 8540.83179,\n",
       "       8540.86551, 8540.89923, 8540.93295, 8540.96667, 8541.00039,\n",
       "       8541.03411, 8541.06783, 8541.10155, 8541.13527, 8541.16899,\n",
       "       8541.20271, 8541.23643, 8541.27015, 8541.30387, 8541.33759,\n",
       "       8541.37131, 8541.40503, 8541.43875, 8541.47247, 8541.50619,\n",
       "       8541.53991, 8541.57363, 8541.60735, 8541.64107, 8541.67479,\n",
       "       8541.70851, 8541.74223, 8541.77595, 8541.80967, 8541.84339,\n",
       "       8541.87711, 8541.91083, 8541.94455, 8541.97827, 8542.01199,\n",
       "       8542.04571, 8542.07943, 8542.11315, 8542.14687, 8542.18059,\n",
       "       8542.21431, 8542.24803, 8542.28175, 8542.31547, 8542.34919,\n",
       "       8542.38291, 8542.41663, 8542.45035, 8542.48407, 8542.51779,\n",
       "       8542.55151, 8542.58523, 8542.61895, 8542.65267, 8542.68639,\n",
       "       8542.72011, 8542.75383, 8542.78755, 8542.82127, 8542.85499,\n",
       "       8542.88871, 8542.92243, 8542.95615, 8542.98987, 8543.02359,\n",
       "       8543.05731, 8543.09103, 8543.12475, 8543.15847, 8543.19219,\n",
       "       8543.22591, 8543.25963, 8543.29335, 8543.32707, 8543.36079,\n",
       "       8543.39451, 8543.42823, 8543.46195, 8543.49567, 8543.52939,\n",
       "       8543.56311, 8543.59683, 8543.63055, 8543.66427, 8543.69799,\n",
       "       8543.73171, 8543.76543, 8543.79915, 8543.83287, 8543.86659,\n",
       "       8543.90031, 8543.93403, 8543.96775, 8544.00147, 8544.03519,\n",
       "       8544.06891, 8544.10263, 8544.13635, 8544.17007, 8544.20379,\n",
       "       8544.23751, 8544.27123, 8544.30495, 8544.33867, 8544.37239,\n",
       "       8544.40611, 8544.43983, 8544.47355, 8544.50727, 8544.54099,\n",
       "       8544.57471, 8544.60843, 8544.64215, 8544.67587, 8544.70959,\n",
       "       8544.74331, 8544.77703, 8544.81075, 8544.84447, 8544.87819,\n",
       "       8544.91191, 8544.94563, 8544.97935, 8545.01307, 8545.04679,\n",
       "       8545.08051, 8545.11423, 8545.14795, 8545.18167, 8545.21539,\n",
       "       8545.24911, 8545.28283, 8545.31655, 8545.35027, 8545.38399,\n",
       "       8545.41771, 8545.45143, 8545.48515, 8545.51887, 8545.55259,\n",
       "       8545.58631])"
      ]
     },
     "execution_count": 74,
     "metadata": {},
     "output_type": "execute_result"
    }
   ],
   "source": [
    "f['wav'][ind[0:306]]"
   ]
  },
  {
   "cell_type": "code",
   "execution_count": 3,
   "metadata": {},
   "outputs": [],
   "source": [
    "ltau = np.array(\n",
    "    [\n",
    "        -8.        , -7.78133011, -7.77447987, -7.76711988, -7.76003981,\n",
    "        -7.75249004, -7.74428988, -7.73559999, -7.72637987, -7.71590996,\n",
    "        -7.7047801 , -7.69357014, -7.6876502 , -7.68174982, -7.67588997,\n",
    "        -7.66997004, -7.66374016, -7.65712023, -7.64966011, -7.64093018,\n",
    "        -7.63092995, -7.61920023, -7.60529995, -7.58876991, -7.56925011,\n",
    "        -7.54674006, -7.52177   , -7.49316978, -7.45849991, -7.41659021,\n",
    "        -7.36724997, -7.3108902 , -7.24834013, -7.18071985, -7.11129999,\n",
    "        -7.04137993, -6.97006989, -6.89697981, -6.82298994, -6.74880981,\n",
    "        -6.6747098 , -6.60046005, -6.52598   , -6.45187998, -6.37933016,\n",
    "        -6.30926991, -6.24280977, -6.1792798 , -6.11685991, -6.05597019,\n",
    "        -5.9974699 , -5.94147015, -5.88801003, -5.8468399 , -5.81285   ,\n",
    "        -5.78013992, -5.74853992, -5.71774006, -5.68761015, -5.65824986,\n",
    "        -5.62930012, -5.60065985, -5.57245016, -5.54456997, -5.51687002,\n",
    "        -5.4893198 , -5.46182013, -5.43416977, -5.40622997, -5.3780098 ,\n",
    "        -5.34959984, -5.32110977, -5.29247999, -5.26357985, -5.23412991,\n",
    "        -5.20391989, -5.1728301 , -5.1407299 , -5.10780001, -5.07426023,\n",
    "        -5.03998995, -5.00492001, -4.96953011, -4.9340601 , -4.89821005,\n",
    "        -4.86195993, -4.82533979, -4.78824997, -4.75065994, -4.71243   ,\n",
    "        -4.67438984, -4.63696003, -4.59945011, -4.56069994, -4.52212   ,\n",
    "        -4.48434019, -4.44652987, -4.40795994, -4.36862993, -4.32842016,\n",
    "        -4.28650999, -4.24205017, -4.19485998, -4.14490986, -4.09186983,\n",
    "        -4.03446007, -3.97196007, -3.90451002, -3.83087993, -3.74959993,\n",
    "        -3.66000009, -3.56112003, -3.45190001, -3.33172989, -3.20393991,\n",
    "        -3.07448006, -2.94443989, -2.81389999, -2.68294001, -2.55164003,\n",
    "        -2.4200201 , -2.28814006, -2.15604997, -2.02377009, -1.89135003,\n",
    "        -1.75880003, -1.62612998, -1.49337006, -1.36126995, -1.23139   ,\n",
    "        -1.10698998, -0.99208999, -0.884893  , -0.78278702, -0.68348801,\n",
    "        -0.58499599, -0.48555899, -0.38308501, -0.27345601, -0.15217701,\n",
    "        -0.0221309 ,  0.110786  ,  0.244405  ,  0.378378  ,  0.51182002,\n",
    "        0.64473999,  0.777188  ,  0.90906298,  1.04043996,  1.17110002\n",
    "    ]\n",
    ")"
   ]
  },
  {
   "cell_type": "code",
   "execution_count": 76,
   "metadata": {
    "scrolled": true
   },
   "outputs": [
    {
     "data": {
      "text/plain": [
       "(1, 1, 30, 4, 150, 1236, 4)"
      ]
     },
     "execution_count": 76,
     "metadata": {},
     "output_type": "execute_result"
    }
   ],
   "source": [
    "f['derivatives'].shape"
   ]
  },
  {
   "cell_type": "code",
   "execution_count": 119,
   "metadata": {},
   "outputs": [
    {
     "data": {
      "text/plain": [
       "[<matplotlib.lines.Line2D at 0x7fe6c40aa3d0>]"
      ]
     },
     "execution_count": 119,
     "metadata": {},
     "output_type": "execute_result"
    }
   ],
   "source": [
    "plt.plot(f['wav'][ind[0:306]], f['profiles'][0, 0, 0, ind[0:306], 0])"
   ]
  },
  {
   "cell_type": "code",
   "execution_count": 118,
   "metadata": {},
   "outputs": [
    {
     "data": {
      "text/plain": [
       "[<matplotlib.lines.Line2D at 0x7fe6d0483350>]"
      ]
     },
     "execution_count": 118,
     "metadata": {},
     "output_type": "execute_result"
    }
   ],
   "source": [
    "plt.plot(f['wav'][ind[0:306]], f['profiles'][0, 0, 0, ind[0:306], 3] / f['profiles'][0, 0, 0, ind[0:306], 0])"
   ]
  },
  {
   "cell_type": "code",
   "execution_count": 124,
   "metadata": {},
   "outputs": [
    {
     "data": {
      "text/plain": [
       "<matplotlib.collections.QuadMesh at 0x7fe6b5077650>"
      ]
     },
     "execution_count": 124,
     "metadata": {},
     "output_type": "execute_result"
    }
   ],
   "source": [
    "X, Y = np.meshgrid(f['wav'][ind[0:306]], ltau)\n",
    "plt.pcolormesh(X, Y, f['derivatives'][0, 0, 0, 3, :, ind[0:306], 3], cmap='gray', shading='nearest')"
   ]
  },
  {
   "cell_type": "code",
   "execution_count": 122,
   "metadata": {},
   "outputs": [],
   "source": [
    "fp = h5py.File('pixel_indices_emission_total_6.h5', 'r')"
   ]
  },
  {
   "cell_type": "code",
   "execution_count": 125,
   "metadata": {},
   "outputs": [
    {
     "data": {
      "text/plain": [
       "[<matplotlib.lines.Line2D at 0x7fe6b48b8090>]"
      ]
     },
     "execution_count": 125,
     "metadata": {},
     "output_type": "execute_result"
    }
   ],
   "source": [
    "plt.plot(ltau, fa['blong'][0, 0, 0])"
   ]
  },
  {
   "cell_type": "code",
   "execution_count": 14,
   "metadata": {},
   "outputs": [
    {
     "data": {
      "text/plain": [
       "<KeysViewHDF5 ['pixel_indices']>"
      ]
     },
     "execution_count": 14,
     "metadata": {},
     "output_type": "execute_result"
    }
   ],
   "source": [
    "fp.keys()"
   ]
  },
  {
   "cell_type": "code",
   "execution_count": 15,
   "metadata": {},
   "outputs": [
    {
     "data": {
      "text/plain": [
       "array([[12, 13, 14, 14, 15, 15],\n",
       "       [28, 27, 26, 27, 26, 27],\n",
       "       [24, 24, 24, 24, 24, 24]])"
      ]
     },
     "execution_count": 15,
     "metadata": {},
     "output_type": "execute_result"
    }
   ],
   "source": [
    "fp['pixel_indices'][()]"
   ]
  },
  {
   "cell_type": "code",
   "execution_count": 16,
   "metadata": {},
   "outputs": [],
   "source": [
    "fp.close()"
   ]
  },
  {
   "cell_type": "code",
   "execution_count": 17,
   "metadata": {},
   "outputs": [],
   "source": [
    "fp = h5py.File('pixel_indices_spot_total_107.h5', 'r')"
   ]
  },
  {
   "cell_type": "code",
   "execution_count": 21,
   "metadata": {},
   "outputs": [
    {
     "data": {
      "text/plain": [
       "array([ 3,  9, 10, 13, 20, 21])"
      ]
     },
     "execution_count": 21,
     "metadata": {},
     "output_type": "execute_result"
    }
   ],
   "source": [
    "np.unique(fp['pixel_indices'][2, :])"
   ]
  },
  {
   "cell_type": "code",
   "execution_count": 22,
   "metadata": {},
   "outputs": [],
   "source": [
    "fp.close()"
   ]
  },
  {
   "cell_type": "code",
   "execution_count": 23,
   "metadata": {},
   "outputs": [],
   "source": [
    "fp = h5py.File('pixel_indices_quiet_total_1027.h5', 'r')"
   ]
  },
  {
   "cell_type": "code",
   "execution_count": 28,
   "metadata": {},
   "outputs": [],
   "source": [
    "x, y = fp['pixel_indices'][0:2]"
   ]
  },
  {
   "cell_type": "code",
   "execution_count": 25,
   "metadata": {},
   "outputs": [],
   "source": [
    "fc = h5py.File('combined_output.nc', 'r')"
   ]
  },
  {
   "cell_type": "code",
   "execution_count": 26,
   "metadata": {},
   "outputs": [
    {
     "data": {
      "text/plain": [
       "<KeysViewHDF5 ['blong', 'ltau500', 'nne', 'pgas', 'rho', 'temp', 'vlos', 'vturb', 'z']>"
      ]
     },
     "execution_count": 26,
     "metadata": {},
     "output_type": "execute_result"
    }
   ],
   "source": [
    "fc.keys()"
   ]
  },
  {
   "cell_type": "code",
   "execution_count": 27,
   "metadata": {},
   "outputs": [
    {
     "data": {
      "text/plain": [
       "(1, 19, 60, 150)"
      ]
     },
     "execution_count": 27,
     "metadata": {},
     "output_type": "execute_result"
    }
   ],
   "source": [
    "fc['temp'].shape"
   ]
  },
  {
   "cell_type": "code",
   "execution_count": 29,
   "metadata": {},
   "outputs": [
    {
     "data": {
      "text/plain": [
       "(array([ 9,  9,  9, ..., 14, 14, 14]), array([57, 58, 59, ..., 49, 50, 51]))"
      ]
     },
     "execution_count": 29,
     "metadata": {},
     "output_type": "execute_result"
    }
   ],
   "source": [
    "x, y"
   ]
  },
  {
   "cell_type": "code",
   "execution_count": 30,
   "metadata": {},
   "outputs": [],
   "source": [
    "fp.close()"
   ]
  },
  {
   "cell_type": "code",
   "execution_count": 31,
   "metadata": {},
   "outputs": [],
   "source": [
    "fp = h5py.File('pixel_indices_emission_total_33.h5', 'r')"
   ]
  },
  {
   "cell_type": "code",
   "execution_count": 32,
   "metadata": {},
   "outputs": [
    {
     "data": {
      "text/plain": [
       "array([[20, 20, 20, 20, 20, 20, 20, 20, 20, 20, 20, 20, 20, 20, 20, 20,\n",
       "        20, 20, 20, 20, 20, 20, 20, 20, 21, 21, 21, 24, 24, 24, 24, 24,\n",
       "        24]])"
      ]
     },
     "execution_count": 32,
     "metadata": {},
     "output_type": "execute_result"
    }
   ],
   "source": [
    "fp['pixel_indices'][2:]"
   ]
  },
  {
   "cell_type": "code",
   "execution_count": 33,
   "metadata": {},
   "outputs": [],
   "source": [
    "fo = h5py.File('alignedspectra_scan1_map01_Ca.fits_stic_profiles.nc_emission_total_33.nc', 'r')"
   ]
  },
  {
   "cell_type": "code",
   "execution_count": 34,
   "metadata": {},
   "outputs": [
    {
     "data": {
      "text/plain": [
       "(1, 1, 33, 1236, 4)"
      ]
     },
     "execution_count": 34,
     "metadata": {},
     "output_type": "execute_result"
    }
   ],
   "source": [
    "fo['profiles'].shape"
   ]
  },
  {
   "cell_type": "code",
   "execution_count": 42,
   "metadata": {},
   "outputs": [
    {
     "data": {
      "text/plain": [
       "[<matplotlib.lines.Line2D at 0x7fe6f52bb810>]"
      ]
     },
     "execution_count": 42,
     "metadata": {},
     "output_type": "execute_result"
    }
   ],
   "source": [
    "plt.plot(fo['wav'][ind[0:306]], scipy.ndimage.median_filter(fo['profiles'][0, 0, 12, ind[0:306], 3] / fo['profiles'][0, 0, 12, ind[0:306], 0], size=17))"
   ]
  },
  {
   "cell_type": "code",
   "execution_count": 54,
   "metadata": {},
   "outputs": [],
   "source": [
    "fo.close()"
   ]
  },
  {
   "cell_type": "code",
   "execution_count": 126,
   "metadata": {},
   "outputs": [],
   "source": [
    "fin = h5py.File('/home/harsh/SpinorNagaraju/maps_1/stic/processed_inputs/alignedspectra_scan1_map01_Ca.fits_stic_profiles.nc', 'r')"
   ]
  },
  {
   "cell_type": "code",
   "execution_count": 128,
   "metadata": {},
   "outputs": [
    {
     "data": {
      "text/plain": [
       "(1, 19, 60, 1236, 4)"
      ]
     },
     "execution_count": 128,
     "metadata": {},
     "output_type": "execute_result"
    }
   ],
   "source": [
    "fin['profiles'].shape"
   ]
  },
  {
   "cell_type": "code",
   "execution_count": 149,
   "metadata": {},
   "outputs": [],
   "source": [
    "stokes_v = fin['profiles'][0, 0, :, ind[0:306], 3]"
   ]
  },
  {
   "cell_type": "code",
   "execution_count": 150,
   "metadata": {},
   "outputs": [
    {
     "data": {
      "text/plain": [
       "(60, 306)"
      ]
     },
     "execution_count": 150,
     "metadata": {},
     "output_type": "execute_result"
    }
   ],
   "source": [
    "stokes_v.shape"
   ]
  },
  {
   "cell_type": "code",
   "execution_count": 151,
   "metadata": {},
   "outputs": [
    {
     "data": {
      "text/plain": [
       "<matplotlib.image.AxesImage at 0x7fe6ab1bf8d0>"
      ]
     },
     "execution_count": 151,
     "metadata": {},
     "output_type": "execute_result"
    }
   ],
   "source": [
    "plt.imshow(stokes_v, cmap='gray', origin='lower')"
   ]
  },
  {
   "cell_type": "code",
   "execution_count": 152,
   "metadata": {},
   "outputs": [],
   "source": [
    "mu = np.mean(stokes_v, 0)"
   ]
  },
  {
   "cell_type": "code",
   "execution_count": 153,
   "metadata": {},
   "outputs": [
    {
     "data": {
      "text/plain": [
       "array([ 4.26808742e-04,  2.98422474e-04,  1.80305699e-04,  2.10463821e-04,\n",
       "        5.45665614e-06, -1.99085416e-05,  4.94770565e-05, -3.75236589e-04,\n",
       "       -5.82270522e-04, -1.06452926e-05,  1.97691128e-04,  7.51080038e-05,\n",
       "       -2.67244102e-04, -4.01926980e-04, -2.72757034e-04, -3.81879539e-04,\n",
       "       -6.19270742e-04, -4.34529819e-04, -3.11574099e-04, -4.65527526e-04,\n",
       "       -3.36605117e-04, -4.20825764e-04, -5.88580219e-04, -1.27075578e-03,\n",
       "       -2.48335549e-03, -3.79541145e-03, -5.05636298e-03, -4.98523796e-03,\n",
       "       -3.27156567e-03,  1.36942102e-04,  2.93376710e-03,  4.35442137e-03,\n",
       "        4.03135270e-03,  3.16871507e-03,  2.06815308e-03,  1.23679329e-03,\n",
       "        8.56534029e-04,  6.97170284e-04,  3.82526339e-04,  3.53396847e-04,\n",
       "        4.15714444e-04,  1.66764481e-04,  1.43980309e-04,  4.52353293e-04,\n",
       "        1.04195932e-04, -1.58498007e-04, -4.84558032e-05, -4.55545028e-05,\n",
       "       -8.49467603e-05, -3.21484143e-04, -4.74829352e-04, -1.28052939e-04,\n",
       "       -2.02208926e-04, -2.84115268e-04, -3.29823656e-04, -2.23152591e-04,\n",
       "       -3.18117015e-04, -2.29659732e-04, -2.21001252e-04, -2.31668809e-04,\n",
       "       -3.93491024e-04, -2.02080715e-04, -1.41606038e-04, -4.05875238e-05,\n",
       "       -2.02568350e-04, -1.40125695e-04, -3.17334852e-05,  6.83121266e-05,\n",
       "       -8.29685976e-05, -1.59053978e-04,  7.01404672e-06, -1.66167718e-05,\n",
       "       -3.49261254e-05, -8.78632776e-05, -3.62987619e-06,  1.33251439e-05,\n",
       "       -3.54224289e-04, -8.64244372e-04, -1.72607838e-03, -2.60960480e-03,\n",
       "       -2.86404368e-03, -1.75530966e-03,  1.12271553e-04,  1.55491059e-03,\n",
       "        1.97519345e-03,  1.56611005e-03,  9.75987197e-04,  2.45897911e-04,\n",
       "        8.68777992e-05, -3.76749923e-04, -3.95473419e-04, -4.04800057e-04,\n",
       "       -2.50434079e-04, -3.52439943e-04, -2.40719819e-04,  8.69654528e-05,\n",
       "       -1.41843530e-04, -2.00856006e-05, -1.19203697e-04,  1.30498245e-04,\n",
       "       -6.69189566e-05, -2.10609798e-04, -7.75331017e-05, -1.70656099e-04,\n",
       "       -9.96920395e-05,  6.13030915e-05,  1.30780277e-05, -1.65136264e-04,\n",
       "       -3.47517400e-04, -5.47543109e-04, -5.47050375e-04, -1.74440361e-04,\n",
       "       -1.17653154e-04, -1.14072623e-04, -6.52837689e-05, -3.63170313e-04,\n",
       "       -1.93786374e-04, -4.15941189e-04, -1.92200107e-04, -3.14040462e-04,\n",
       "       -1.68514157e-04, -4.50113108e-04, -5.41443873e-04, -5.53473332e-04,\n",
       "       -7.11835287e-04, -5.57337742e-04, -3.63495212e-04, -4.76141033e-04,\n",
       "       -5.21334925e-04, -4.76969360e-04, -5.43588088e-04, -4.64030635e-04,\n",
       "       -3.56185747e-04, -1.32286377e-04, -2.12638829e-04, -3.36287192e-04,\n",
       "       -4.64375996e-05, -3.70344015e-05,  2.30696440e-04, -2.31755259e-04,\n",
       "       -2.39081577e-04, -3.82966474e-04, -5.06270735e-04, -2.01912755e-04,\n",
       "       -6.15472745e-05, -2.37297817e-04, -6.02029797e-04, -6.48114917e-04,\n",
       "       -6.75698985e-04, -5.81913070e-04, -5.05644708e-04, -6.12559994e-04,\n",
       "       -7.53661598e-04, -6.77619435e-04, -6.54220479e-04, -7.90380552e-04,\n",
       "       -7.24299294e-04, -5.30101010e-04, -6.60325672e-04, -8.52567917e-04,\n",
       "       -6.87318668e-04, -4.34639385e-04, -5.37125014e-04, -6.11851746e-04,\n",
       "       -6.54478638e-04, -7.25585331e-04, -9.49468246e-04, -5.88710273e-04,\n",
       "       -4.22047611e-04, -5.94558789e-04, -4.23849100e-04, -6.09997095e-04,\n",
       "       -7.53465658e-04, -5.13933947e-04, -4.55152471e-04, -4.48717451e-04,\n",
       "       -6.50767764e-04, -6.51691986e-04, -8.62985883e-04, -8.30090332e-04,\n",
       "       -7.09520631e-04, -9.74321439e-04, -9.30498617e-04, -1.05826535e-03,\n",
       "       -8.50356520e-04, -8.48012749e-04, -1.07194931e-03, -1.19854036e-03,\n",
       "       -1.53481172e-03, -1.18509084e-03, -1.39700428e-03, -1.51211196e-03,\n",
       "       -1.59424189e-03, -1.81568794e-03, -1.87477872e-03, -2.18468475e-03,\n",
       "       -2.74152479e-03, -2.67905230e-03, -1.82555143e-03, -1.20261555e-03,\n",
       "       -4.95250828e-04,  1.01612389e-04,  5.24523846e-04,  1.13784362e-03,\n",
       "        1.80368758e-03,  1.94504249e-03,  2.13143305e-03,  2.41474390e-03,\n",
       "        2.46422767e-03,  2.55545142e-03,  1.85544350e-03,  1.44473518e-03,\n",
       "        1.05093442e-03,  8.60499197e-04,  8.29134862e-04,  7.79301808e-04,\n",
       "        8.46863946e-04,  9.84511857e-04,  1.01435108e-03,  9.10717787e-04,\n",
       "        1.00514254e-03,  1.03148065e-03,  7.64083861e-04,  7.96562612e-04,\n",
       "        9.43752016e-04,  7.22931116e-04,  3.46300270e-04,  6.20144021e-04,\n",
       "        6.42707161e-04,  6.17462564e-04,  6.03371278e-04,  5.23669603e-04,\n",
       "        7.34706623e-04,  7.00999327e-04,  5.61161602e-04,  8.11201863e-04,\n",
       "        5.86013364e-04,  6.39512420e-04,  7.70507524e-04,  3.60832249e-04,\n",
       "        6.14113169e-04,  6.94432142e-04,  5.20284742e-04,  3.36139003e-04,\n",
       "        7.70664047e-04,  6.67125855e-04,  5.97878309e-04,  8.95307886e-04,\n",
       "        7.12544106e-04,  5.49554413e-04,  3.82844162e-04,  8.03390181e-04,\n",
       "        6.69122017e-04,  4.37342721e-04,  6.36362328e-04,  6.52630919e-04,\n",
       "        5.39926615e-04,  4.70333999e-04,  4.08161081e-04,  6.55267972e-04,\n",
       "        2.92123718e-04,  5.39919931e-04,  3.66926487e-04,  2.72413424e-04,\n",
       "        1.45553710e-04,  1.55154069e-04,  2.35358468e-04,  2.96121708e-04,\n",
       "        5.81928529e-04,  3.70733573e-04,  2.76953274e-04,  4.41124667e-04,\n",
       "        3.93876988e-04,  4.53390588e-04,  5.08418086e-04,  5.61647523e-04,\n",
       "        4.41459868e-04,  6.23448956e-04,  6.63906383e-04,  7.26114730e-04,\n",
       "        3.90878040e-04,  2.47239182e-04,  3.13976817e-04,  6.25081952e-04,\n",
       "        6.54384944e-04,  5.64975214e-04,  5.38845651e-04,  5.64780093e-04,\n",
       "        2.13017229e-04,  8.96621493e-05,  1.17331679e-04,  8.52986682e-05,\n",
       "        2.35872223e-04,  3.60721528e-04,  9.85381784e-05, -1.39799729e-04,\n",
       "        2.26091578e-04,  1.92967288e-04,  9.40979442e-05, -2.29235992e-05,\n",
       "        1.37299809e-04,  1.84255238e-04, -9.04935528e-06,  1.67687303e-05,\n",
       "        8.20960868e-05,  2.17780322e-04])"
      ]
     },
     "execution_count": 153,
     "metadata": {},
     "output_type": "execute_result"
    }
   ],
   "source": [
    "mu"
   ]
  },
  {
   "cell_type": "code",
   "execution_count": 289,
   "metadata": {},
   "outputs": [],
   "source": [
    "pca = PCA(n_components=60)"
   ]
  },
  {
   "cell_type": "code",
   "execution_count": 290,
   "metadata": {},
   "outputs": [
    {
     "data": {
      "text/plain": [
       "<matplotlib.image.AxesImage at 0x7fe660f81dd0>"
      ]
     },
     "execution_count": 290,
     "metadata": {},
     "output_type": "execute_result"
    }
   ],
   "source": [
    "nComps = 0\n",
    "nCompe = 6\n",
    "Xhat = np.dot(pca.fit_transform(stokes_v)[:,nComps:nCompe], pca.components_[nComps:nCompe,:])\n",
    "Xhat += mu\n",
    "plt.imshow(Xhat, cmap='gray', origin='lower')"
   ]
  },
  {
   "cell_type": "code",
   "execution_count": 291,
   "metadata": {},
   "outputs": [
    {
     "data": {
      "text/plain": [
       "<BarContainer object of 60 artists>"
      ]
     },
     "execution_count": 291,
     "metadata": {},
     "output_type": "execute_result"
    }
   ],
   "source": [
    "features = range(pca.n_components_)\n",
    "plt.bar(features, pca.explained_variance_ratio_, color='black')"
   ]
  },
  {
   "cell_type": "code",
   "execution_count": 202,
   "metadata": {},
   "outputs": [
    {
     "data": {
      "text/plain": [
       "<matplotlib.legend.Legend at 0x7fe6a2ea8450>"
      ]
     },
     "execution_count": 202,
     "metadata": {},
     "output_type": "execute_result"
    }
   ],
   "source": [
    "plt.plot(Xhat[30], label='corrected')\n",
    "plt.plot(stokes_v[30], label='original')\n",
    "plt.legend()"
   ]
  },
  {
   "cell_type": "code",
   "execution_count": 297,
   "metadata": {},
   "outputs": [],
   "source": [
    "profiles = fin['profiles'][()]\n",
    "for i in range(19):\n",
    "    stokes_v = profiles[0, i, :, ind[0:306], 3]\n",
    "    mu = np.mean(stokes_v, 0)\n",
    "    pca = PCA(n_components=60)\n",
    "    nComps = 0\n",
    "    nCompe = 3\n",
    "    Xhat = np.dot(pca.fit_transform(stokes_v)[:,nComps:nCompe], pca.components_[nComps:nCompe,:])\n",
    "    Xhat += mu\n",
    "    profiles[0, i, :, ind[0:306], 3] = Xhat"
   ]
  },
  {
   "cell_type": "code",
   "execution_count": 212,
   "metadata": {},
   "outputs": [
    {
     "data": {
      "text/plain": [
       "0.008432500000708387"
      ]
     },
     "execution_count": 212,
     "metadata": {},
     "output_type": "execute_result"
    }
   ],
   "source": [
    "fin['wav'][1] - fin['wav'][0]"
   ]
  },
  {
   "cell_type": "code",
   "execution_count": 310,
   "metadata": {},
   "outputs": [
    {
     "data": {
      "text/plain": [
       "<matplotlib.image.AxesImage at 0x7fe668aec050>"
      ]
     },
     "execution_count": 310,
     "metadata": {},
     "output_type": "execute_result"
    }
   ],
   "source": [
    "plt.imshow(fin['profiles'][0, :, :, ind[0:306][0], 0], cmap='gray', origin='lower')"
   ]
  },
  {
   "cell_type": "code",
   "execution_count": 321,
   "metadata": {},
   "outputs": [],
   "source": [
    "x=14\n",
    "y=55"
   ]
  },
  {
   "cell_type": "code",
   "execution_count": 322,
   "metadata": {},
   "outputs": [
    {
     "data": {
      "text/plain": [
       "<matplotlib.legend.Legend at 0x7fe65df40990>"
      ]
     },
     "execution_count": 322,
     "metadata": {},
     "output_type": "execute_result"
    }
   ],
   "source": [
    "line1,  = plt.plot(fin['wav'][ind[0:306]], profiles[0, x, y, ind[0:306], 3] * 100/ profiles[0, x, y, ind[0:306], 0], label='corrected')\n",
    "line2,  = plt.plot(fin['wav'][ind[0:306]], fin['profiles'][0, x, y, ind[0:306], 3] * 100/ fin['profiles'][0, x, y, ind[0:306], 0], label='original')\n",
    "# plt.plot(fin['wav'][ind[0:306]], scipy.ndimage.gaussian_filter(fin['profiles'][0, x, y, ind[0:306], 3] / fin['profiles'][0, x, y, ind[0:306], 0], sigma=5/2.355, order=0), label='gaussian_filtered')\n",
    "plt.gca().legend(handles=[line1, line2])\n",
    "axs2 = plt.gca().twinx()\n",
    "line3,  = axs2.plot(fin['wav'][ind[0:306]], fin['profiles'][0, x, y, ind[0:306], 0], label='profile', color='black')\n",
    "axs2.legend(handles=[line3], loc=2)\n",
    "# plt.legend()"
   ]
  },
  {
   "cell_type": "code",
   "execution_count": 260,
   "metadata": {},
   "outputs": [],
   "source": [
    "fr = h5py.File('/home/harsh/SpinorNagaraju/maps_1/stic/RPs_plots/new_inversions/rps_stic_profiles_x_30_y_1_cycle_1_t_0_vl_0_vt_0_blong_2_atmos_response.nc', 'r')"
   ]
  },
  {
   "cell_type": "code",
   "execution_count": 261,
   "metadata": {},
   "outputs": [
    {
     "data": {
      "text/plain": [
       "<KeysViewHDF5 ['derivatives', 'ndep', 'profiles', 'stokes', 'time', 'vidx', 'vtype', 'wav', 'x', 'y']>"
      ]
     },
     "execution_count": 261,
     "metadata": {},
     "output_type": "execute_result"
    }
   ],
   "source": [
    "fr.keys()"
   ]
  },
  {
   "cell_type": "code",
   "execution_count": 323,
   "metadata": {},
   "outputs": [
    {
     "data": {
      "text/plain": [
       "<matplotlib.collections.QuadMesh at 0x7fe65deab910>"
      ]
     },
     "execution_count": 323,
     "metadata": {},
     "output_type": "execute_result"
    }
   ],
   "source": [
    "X, Y = np.meshgrid(fr['wav'][ind[0:306]], ltau)\n",
    "plt.pcolormesh(X, Y, fr['derivatives'][0, 0, 0, 3, :, ind[0:306], 3], cmap='gray', shading='nearest')"
   ]
  },
  {
   "cell_type": "code",
   "execution_count": 312,
   "metadata": {},
   "outputs": [],
   "source": [
    "fk = h5py.File('/home/harsh/SpinorNagaraju/maps_1/stic/chosen_out_30.h5', 'r')"
   ]
  },
  {
   "cell_type": "code",
   "execution_count": 313,
   "metadata": {},
   "outputs": [
    {
     "data": {
      "text/plain": [
       "<KeysViewHDF5 ['cluster_centers_', 'final_labels', 'inertia_', 'labels_', 'n_iter_', 'rps']>"
      ]
     },
     "execution_count": 313,
     "metadata": {},
     "output_type": "execute_result"
    }
   ],
   "source": [
    "fk.keys()"
   ]
  },
  {
   "cell_type": "code",
   "execution_count": 314,
   "metadata": {},
   "outputs": [],
   "source": [
    "mask = np.zeros_like(fk['final_labels'][()])"
   ]
  },
  {
   "cell_type": "code",
   "execution_count": 315,
   "metadata": {},
   "outputs": [],
   "source": [
    "mask[np.where(fk['final_labels'][()] == 0)] = 1"
   ]
  },
  {
   "cell_type": "code",
   "execution_count": 316,
   "metadata": {},
   "outputs": [
    {
     "name": "stderr",
     "output_type": "stream",
     "text": [
      "/home/harsh/CourseworkRepo/HMIAnalysis/env/lib/python3.7/site-packages/ipykernel_launcher.py:2: UserWarning: No contour levels were found within the data range.\n",
      "  \n"
     ]
    },
    {
     "data": {
      "text/plain": [
       "<matplotlib.contour.QuadContourSet at 0x7fe66889b150>"
      ]
     },
     "execution_count": 316,
     "metadata": {},
     "output_type": "execute_result"
    }
   ],
   "source": [
    "plt.imshow(fin['profiles'][0, :, :, ind[0:306][0], 0], cmap='gray', origin='lower')\n",
    "plt.contour(mask, levels=0)"
   ]
  },
  {
   "cell_type": "code",
   "execution_count": 318,
   "metadata": {},
   "outputs": [
    {
     "data": {
      "text/plain": [
       "(array([ 9,  9,  9, 10, 10, 10, 12, 12, 13, 13, 14, 14, 14, 14, 15, 15, 15,\n",
       "        15, 15, 16, 16, 16, 16, 17, 17, 17, 17, 17, 18, 18]),\n",
       " array([57, 58, 59, 57, 58, 59, 56, 57, 55, 57, 55, 57, 58, 59, 55, 56, 57,\n",
       "        58, 59, 56, 57, 58, 59, 55, 56, 57, 58, 59, 58, 59]))"
      ]
     },
     "execution_count": 318,
     "metadata": {},
     "output_type": "execute_result"
    }
   ],
   "source": [
    "np.where(fk['final_labels'][()] == 0)"
   ]
  },
  {
   "cell_type": "code",
   "execution_count": 324,
   "metadata": {},
   "outputs": [],
   "source": [
    "fr2 = h5py.File('/home/harsh/SpinorNagaraju/maps_1/stic/run_nagaraju/rps_stic_profiles_x_30_y_1_cycle_1_t_0_vl_0_vt_0_blong_2_atmos_intrep.nc', 'r+')"
   ]
  },
  {
   "cell_type": "code",
   "execution_count": 325,
   "metadata": {},
   "outputs": [
    {
     "data": {
      "text/plain": [
       "<KeysViewHDF5 ['azi', 'bhor', 'blong', 'cmass', 'ltau500', 'ndep', 'nne', 'pgas', 'rho', 'temp', 'time', 'vlos', 'vturb', 'x', 'y', 'z']>"
      ]
     },
     "execution_count": 325,
     "metadata": {},
     "output_type": "execute_result"
    }
   ],
   "source": [
    "fr2.keys()"
   ]
  },
  {
   "cell_type": "code",
   "execution_count": 326,
   "metadata": {},
   "outputs": [],
   "source": [
    "blong = fr2['blong'][()]"
   ]
  },
  {
   "cell_type": "code",
   "execution_count": 327,
   "metadata": {},
   "outputs": [
    {
     "data": {
      "text/plain": [
       "(1, 1, 30, 150)"
      ]
     },
     "execution_count": 327,
     "metadata": {},
     "output_type": "execute_result"
    }
   ],
   "source": [
    "blong.shape"
   ]
  },
  {
   "cell_type": "code",
   "execution_count": 331,
   "metadata": {},
   "outputs": [],
   "source": [
    "ltind = np.where((ltau<=-1.5) & (ltau>=-4))[0]"
   ]
  },
  {
   "cell_type": "code",
   "execution_count": 332,
   "metadata": {},
   "outputs": [],
   "source": [
    "a, b = np.polyfit(ltau[ltind], blong[0, 0, 0, ltind], 1)"
   ]
  },
  {
   "cell_type": "code",
   "execution_count": 333,
   "metadata": {},
   "outputs": [],
   "source": [
    "bln = a * ltau + b"
   ]
  },
  {
   "cell_type": "code",
   "execution_count": 334,
   "metadata": {},
   "outputs": [
    {
     "data": {
      "text/plain": [
       "[<matplotlib.lines.Line2D at 0x7fe65dccadd0>]"
      ]
     },
     "execution_count": 334,
     "metadata": {},
     "output_type": "execute_result"
    }
   ],
   "source": [
    "plt.plot(ltau, bln)\n",
    "plt.plot(ltau, blong[0, 0, 0])"
   ]
  },
  {
   "cell_type": "code",
   "execution_count": 335,
   "metadata": {},
   "outputs": [],
   "source": [
    "for i in range(30):\n",
    "    a, b = np.polyfit(ltau[ltind], blong[0, 0, i, ltind], 1)\n",
    "    bln = a * ltau + b\n",
    "    blong[0, 0, i] = bln"
   ]
  },
  {
   "cell_type": "code",
   "execution_count": 339,
   "metadata": {},
   "outputs": [
    {
     "data": {
      "text/plain": [
       "[<matplotlib.lines.Line2D at 0x7fe659d55f50>]"
      ]
     },
     "execution_count": 339,
     "metadata": {},
     "output_type": "execute_result"
    }
   ],
   "source": [
    "plt.plot(ltau, blong[0, 0, 29])"
   ]
  },
  {
   "cell_type": "code",
   "execution_count": 340,
   "metadata": {},
   "outputs": [
    {
     "data": {
      "text/plain": [
       "<HDF5 file \"rps_stic_profiles_x_30_y_1_cycle_1_t_0_vl_0_vt_0_blong_2_atmos_intrep.nc\" (mode r+)>"
      ]
     },
     "execution_count": 340,
     "metadata": {},
     "output_type": "execute_result"
    }
   ],
   "source": [
    "fr2"
   ]
  },
  {
   "cell_type": "code",
   "execution_count": 341,
   "metadata": {},
   "outputs": [],
   "source": [
    "fr2['blong'][...] = blong"
   ]
  },
  {
   "cell_type": "code",
   "execution_count": 342,
   "metadata": {},
   "outputs": [],
   "source": [
    "fr2.close()fr2 = h5py.File('/home/harsh/SpinorNagaraju/maps_1/stic/run_nagaraju/rps_stic_profiles_x_30_y_1_cycle_1_t_0_vl_0_vt_0_blong_2_atmos_intrep_response.nc', 'r')"
   ]
  },
  {
   "cell_type": "code",
   "execution_count": 343,
   "metadata": {},
   "outputs": [],
   "source": [
    "fr2 = h5py.File('/home/harsh/SpinorNagaraju/maps_1/stic/run_nagaraju/rps_stic_profiles_x_30_y_1_cycle_1_t_0_vl_0_vt_0_blong_2_atmos_intrep_response.nc', 'r')"
   ]
  },
  {
   "cell_type": "code",
   "execution_count": 345,
   "metadata": {},
   "outputs": [
    {
     "data": {
      "text/plain": [
       "<matplotlib.collections.QuadMesh at 0x7fe659b4aa50>"
      ]
     },
     "execution_count": 345,
     "metadata": {},
     "output_type": "execute_result"
    }
   ],
   "source": [
    "X, Y = np.meshgrid(fr2['wav'][ind[0:306]], ltau)\n",
    "plt.pcolormesh(X, Y, fr2['derivatives'][0, 0, 0, 3, :, ind[0:306], 3], cmap='gray', shading='nearest')"
   ]
  },
  {
   "cell_type": "code",
   "execution_count": 346,
   "metadata": {},
   "outputs": [],
   "source": [
    "fr3 = h5py.File('/home/harsh/SpinorNagaraju/maps_1/stic/run_nagaraju/rps_stic_profiles_x_30_y_1_cycle_1_t_0_vl_0_vt_0_blong_2_atmos_intrep.nc', 'r')"
   ]
  },
  {
   "cell_type": "code",
   "execution_count": 349,
   "metadata": {},
   "outputs": [
    {
     "data": {
      "text/plain": [
       "[<matplotlib.lines.Line2D at 0x7fe65895d290>]"
      ]
     },
     "execution_count": 349,
     "metadata": {},
     "output_type": "execute_result"
    }
   ],
   "source": [
    "plt.plot(ltau, fr3['vlos'][0, 0, 0]/1e5)"
   ]
  },
  {
   "cell_type": "code",
   "execution_count": 350,
   "metadata": {},
   "outputs": [],
   "source": [
    "fr4 = h5py.File('/home/harsh/SpinorNagaraju/maps_1/stic/run_nagaraju/rps_stic_profiles_x_30_y_1_cycle_1_t_0_vl_0_vt_0_blong_2_atmos_intrep_vlos_constant.nc', 'r+')"
   ]
  },
  {
   "cell_type": "code",
   "execution_count": 351,
   "metadata": {},
   "outputs": [],
   "source": [
    "vlos = fr4['vlos'][()]"
   ]
  },
  {
   "cell_type": "code",
   "execution_count": 352,
   "metadata": {},
   "outputs": [
    {
     "data": {
      "text/plain": [
       "(1, 1, 30, 150)"
      ]
     },
     "execution_count": 352,
     "metadata": {},
     "output_type": "execute_result"
    }
   ],
   "source": [
    "vlos.shape"
   ]
  },
  {
   "cell_type": "code",
   "execution_count": 353,
   "metadata": {},
   "outputs": [],
   "source": [
    "for i in range(30):\n",
    "    vlos[0, 0, i] = np.mean(vlos[0, 0, i, ltind])"
   ]
  },
  {
   "cell_type": "code",
   "execution_count": 355,
   "metadata": {},
   "outputs": [
    {
     "data": {
      "text/plain": [
       "[<matplotlib.lines.Line2D at 0x7fe65800cad0>]"
      ]
     },
     "execution_count": 355,
     "metadata": {},
     "output_type": "execute_result"
    }
   ],
   "source": [
    "plt.plot(ltau, vlos[0, 0, 1]/1e5)"
   ]
  },
  {
   "cell_type": "code",
   "execution_count": 356,
   "metadata": {},
   "outputs": [],
   "source": [
    "fr4['vlos'][...] = vlos"
   ]
  },
  {
   "cell_type": "code",
   "execution_count": 357,
   "metadata": {},
   "outputs": [],
   "source": [
    "fr4.close()"
   ]
  },
  {
   "cell_type": "code",
   "execution_count": 358,
   "metadata": {},
   "outputs": [],
   "source": [
    "fr4 = h5py.File('/home/harsh/SpinorNagaraju/maps_1/stic/run_nagaraju/rps_stic_profiles_x_30_y_1_cycle_1_t_0_vl_0_vt_0_blong_2_atmos_intrep_vlos_constant_response.nc', 'r')"
   ]
  },
  {
   "cell_type": "code",
   "execution_count": 359,
   "metadata": {},
   "outputs": [
    {
     "data": {
      "text/plain": [
       "<matplotlib.collections.QuadMesh at 0x7fe657e4ce90>"
      ]
     },
     "execution_count": 359,
     "metadata": {},
     "output_type": "execute_result"
    }
   ],
   "source": [
    "X, Y = np.meshgrid(fr4['wav'][ind[0:306]], ltau)\n",
    "plt.pcolormesh(X, Y, fr4['derivatives'][0, 0, 0, 3, :, ind[0:306], 3], cmap='gray', shading='nearest')"
   ]
  },
  {
   "cell_type": "code",
   "execution_count": 360,
   "metadata": {},
   "outputs": [],
   "source": [
    "fr4a = h5py.File('/home/harsh/SpinorNagaraju/maps_1/stic/run_nagaraju/rps_stic_profiles_x_30_y_1_cycle_1_t_0_vl_0_vt_0_blong_2_atmos_intrep_vlos_constant.nc', 'r')"
   ]
  },
  {
   "cell_type": "code",
   "execution_count": 362,
   "metadata": {},
   "outputs": [
    {
     "data": {
      "text/plain": [
       "[<matplotlib.lines.Line2D at 0x7fe657bdcad0>]"
      ]
     },
     "execution_count": 362,
     "metadata": {},
     "output_type": "execute_result"
    }
   ],
   "source": [
    "plt.plot(ltau, fr4a['blong'][0, 0, 0])"
   ]
  },
  {
   "cell_type": "code",
   "execution_count": 31,
   "metadata": {},
   "outputs": [],
   "source": [
    "f = h5py.File('/home/harsh/run_vishnu/Harsh_FALC_Atmosphere_response.nc', 'r')"
   ]
  },
  {
   "cell_type": "code",
   "execution_count": 15,
   "metadata": {},
   "outputs": [],
   "source": [
    "wave = f['wav'][()] * 10"
   ]
  },
  {
   "cell_type": "code",
   "execution_count": 16,
   "metadata": {},
   "outputs": [],
   "source": [
    "ind = np.where((wave >= 8530) & (wave <= 8550))[0]"
   ]
  },
  {
   "cell_type": "code",
   "execution_count": 17,
   "metadata": {},
   "outputs": [
    {
     "data": {
      "text/plain": [
       "(1404,)"
      ]
     },
     "execution_count": 17,
     "metadata": {},
     "output_type": "execute_result"
    }
   ],
   "source": [
    "ind.shape"
   ]
  },
  {
   "cell_type": "code",
   "execution_count": 18,
   "metadata": {},
   "outputs": [
    {
     "data": {
      "text/plain": [
       "(1, 1, 12, 82, 1404, 4)"
      ]
     },
     "execution_count": 18,
     "metadata": {},
     "output_type": "execute_result"
    }
   ],
   "source": [
    "f['derivatives'].shape"
   ]
  },
  {
   "cell_type": "code",
   "execution_count": 34,
   "metadata": {},
   "outputs": [
    {
     "data": {
      "text/plain": [
       "<matplotlib.collections.QuadMesh at 0x7f95b7ab5790>"
      ]
     },
     "execution_count": 34,
     "metadata": {},
     "output_type": "execute_result"
    }
   ],
   "source": [
    "X, Y = np.meshgrid(f['wav'][ind] * 10, f['z'][0, 0, 0]/1e3)\n",
    "plt.pcolormesh(X, Y, f['derivatives'][0, 0, 6, :, ind, 3], cmap='gray', shading='nearest')"
   ]
  },
  {
   "cell_type": "code",
   "execution_count": 13,
   "metadata": {},
   "outputs": [
    {
     "data": {
      "text/plain": [
       "0.0"
      ]
     },
     "execution_count": 13,
     "metadata": {},
     "output_type": "execute_result"
    }
   ],
   "source": [
    "np.arccos(1)"
   ]
  },
  {
   "cell_type": "code",
   "execution_count": 32,
   "metadata": {},
   "outputs": [
    {
     "data": {
      "text/plain": [
       "[<matplotlib.lines.Line2D at 0x7f95b89fb810>]"
      ]
     },
     "execution_count": 32,
     "metadata": {},
     "output_type": "execute_result"
    }
   ],
   "source": [
    "plt.plot(f['z'][0, 0, 0]/1e3, f['B_z'][0, 0, 0] * 1e4)"
   ]
  },
  {
   "cell_type": "code",
   "execution_count": null,
   "metadata": {},
   "outputs": [],
   "source": []
  }
 ],
 "metadata": {
  "kernelspec": {
   "display_name": "Python 3",
   "language": "python",
   "name": "python3"
  },
  "language_info": {
   "codemirror_mode": {
    "name": "ipython",
    "version": 3
   },
   "file_extension": ".py",
   "mimetype": "text/x-python",
   "name": "python",
   "nbconvert_exporter": "python",
   "pygments_lexer": "ipython3",
   "version": "3.7.12"
  }
 },
 "nbformat": 4,
 "nbformat_minor": 4
}
