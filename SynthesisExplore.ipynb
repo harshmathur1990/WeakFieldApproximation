{
 "cells": [
  {
   "cell_type": "code",
   "execution_count": 9,
   "metadata": {},
   "outputs": [],
   "source": [
    "%matplotlib qt5\n",
    "import h5py\n",
    "import numpy as np\n",
    "import matplotlib.pyplot as plt"
   ]
  },
  {
   "cell_type": "code",
   "execution_count": 24,
   "metadata": {},
   "outputs": [],
   "source": [
    "f1 = h5py.File('combined_output_ha_profs_synth.nc', 'r')\n",
    "f2 = h5py.File('aligned_Ca_Ha_stic_profiles.nc', 'r')"
   ]
  },
  {
   "cell_type": "code",
   "execution_count": 25,
   "metadata": {},
   "outputs": [],
   "source": [
    "ind = np.where(f2['profiles'][0, 0, 0, 1236:, 0] != 0)[0]"
   ]
  },
  {
   "cell_type": "code",
   "execution_count": 26,
   "metadata": {},
   "outputs": [
    {
     "data": {
      "text/plain": [
       "array([1240, 1244, 1248, 1252, 1256, 1260, 1264, 1268, 1272, 1276, 1280,\n",
       "       1284, 1288, 1292, 1296, 1300, 1304, 1308, 1312, 1316, 1320, 1324,\n",
       "       1328, 1332, 1336, 1340, 1344, 1348, 1352, 1356, 1360, 1364, 1368,\n",
       "       1372, 1376, 1380, 1384, 1388, 1392, 1396, 1400, 1404, 1408, 1412,\n",
       "       1416, 1420, 1424, 1428, 1432, 1436, 1440, 1444, 1448, 1452, 1456,\n",
       "       1460, 1464, 1468, 1472, 1476, 1480, 1484, 1488, 1492, 1496, 1500,\n",
       "       1504, 1508, 1512, 1516, 1520, 1524, 1528, 1532, 1536, 1540, 1544,\n",
       "       1548, 1552, 1556, 1560, 1564, 1568, 1572, 1576, 1580, 1584, 1588,\n",
       "       1592, 1596, 1600, 1604, 1608, 1612, 1616, 1620, 1624, 1628, 1632,\n",
       "       1636, 1640, 1644, 1648, 1652, 1656, 1660, 1664, 1668, 1672, 1676,\n",
       "       1680, 1684, 1688, 1692, 1696, 1700, 1704, 1708, 1712, 1716, 1720,\n",
       "       1724, 1728, 1732, 1736, 1740, 1744, 1748, 1752, 1756, 1760, 1764,\n",
       "       1768, 1772, 1776, 1780, 1784, 1788, 1792, 1796, 1800, 1804, 1808,\n",
       "       1812, 1816, 1820, 1824, 1828, 1832, 1836, 1840, 1844, 1848, 1852,\n",
       "       1856, 1860, 1864, 1868, 1872, 1876, 1880, 1884, 1888, 1892, 1896,\n",
       "       1900, 1904, 1908, 1912, 1916, 1920, 1924, 1928, 1932, 1936, 1940,\n",
       "       1944, 1948, 1952, 1956, 1960, 1964, 1968, 1972, 1976, 1980, 1984,\n",
       "       1988, 1992, 1996, 2000, 2004, 2008, 2012, 2016, 2020, 2024, 2028,\n",
       "       2032, 2036, 2040, 2044, 2048, 2052, 2056, 2060, 2064, 2068, 2072,\n",
       "       2076, 2080, 2084, 2088, 2092, 2096, 2100, 2104, 2108, 2112, 2116,\n",
       "       2120, 2124, 2128, 2132, 2136, 2140, 2144, 2148, 2152, 2156, 2160,\n",
       "       2164, 2168, 2172, 2176, 2180, 2184, 2188, 2192, 2196, 2200, 2204,\n",
       "       2208, 2212, 2216, 2220, 2224, 2228, 2232, 2236, 2240, 2244, 2248,\n",
       "       2252, 2256, 2260, 2264, 2268, 2272, 2276, 2280, 2284, 2288, 2292,\n",
       "       2296, 2300, 2304, 2308, 2312, 2316, 2320, 2324, 2328, 2332, 2336,\n",
       "       2340, 2344, 2348, 2352, 2356, 2360, 2364, 2368, 2372, 2376, 2380,\n",
       "       2384, 2388, 2392, 2396, 2400, 2404, 2408, 2412, 2416, 2420, 2424,\n",
       "       2428, 2432, 2436, 2440, 2444, 2448, 2452, 2456, 2460, 2464, 2468,\n",
       "       2472, 2476, 2480, 2484, 2488, 2492, 2496, 2500, 2504, 2508, 2512,\n",
       "       2516, 2520, 2524, 2528, 2532, 2536, 2540, 2544, 2548, 2552, 2556,\n",
       "       2560, 2564, 2568, 2572, 2576, 2580, 2584, 2588, 2592, 2596, 2600,\n",
       "       2604, 2608, 2612, 2616, 2620, 2624, 2628, 2632, 2636, 2640, 2644,\n",
       "       2648, 2652, 2656, 2660, 2664, 2668, 2672, 2676, 2680, 2684, 2688,\n",
       "       2692, 2696, 2700, 2704, 2708, 2712, 2716, 2720, 2724, 2728, 2732,\n",
       "       2736, 2740, 2744, 2748, 2752, 2756, 2760, 2764, 2768, 2772, 2776,\n",
       "       2780, 2784, 2788, 2792, 2796, 2800, 2804, 2808, 2812, 2816, 2820,\n",
       "       2824, 2828, 2832, 2836, 2840, 2844, 2848, 2852, 2856, 2860, 2864,\n",
       "       2868, 2872, 2876, 2880, 2884, 2888, 2892, 2896, 2900, 2904, 2908,\n",
       "       2912, 2916, 2920, 2924, 2928, 2932, 2936, 2940, 2944, 2948, 2952,\n",
       "       2956, 2960, 2964, 2968, 2972, 2976, 2980, 2984, 2988, 2992, 2996,\n",
       "       3000, 3004, 3008, 3012])"
      ]
     },
     "execution_count": 26,
     "metadata": {},
     "output_type": "execute_result"
    }
   ],
   "source": [
    "ind+1236"
   ]
  },
  {
   "cell_type": "code",
   "execution_count": 27,
   "metadata": {},
   "outputs": [
    {
     "data": {
      "text/plain": [
       "((1, 17, 60, 3016, 4), (1, 19, 60, 1780, 4))"
      ]
     },
     "execution_count": 27,
     "metadata": {},
     "output_type": "execute_result"
    }
   ],
   "source": [
    "f2['profiles'].shape, f1['profiles'].shape"
   ]
  },
  {
   "cell_type": "code",
   "execution_count": 28,
   "metadata": {},
   "outputs": [
    {
     "data": {
      "text/plain": [
       "(array([6559.77655  , 6559.7821625, 6559.787775 , ..., 6569.7499625,\n",
       "        6569.755575 , 6569.7611875]),\n",
       " array([6559.77655, 6559.78216, 6559.78777, ..., 6569.74552, 6569.75113,\n",
       "        6569.75674]))"
      ]
     },
     "execution_count": 28,
     "metadata": {},
     "output_type": "execute_result"
    }
   ],
   "source": [
    "f2['wav'][1236:], f1['wav'][()]"
   ]
  },
  {
   "cell_type": "code",
   "execution_count": 29,
   "metadata": {},
   "outputs": [
    {
     "data": {
      "text/plain": [
       "<matplotlib.image.AxesImage at 0x7f2efd0c7d50>"
      ]
     },
     "execution_count": 29,
     "metadata": {},
     "output_type": "execute_result"
    }
   ],
   "source": [
    "wave = 6562.8\n",
    "wave_ind1 = np.argmin(np.abs(f1['wav'][()] - wave))\n",
    "wave_ind2 = np.argmin(np.abs(f2['wav'][ind+1236] - wave))\n",
    "fig, axs = plt.subplots(2, 1, figsize=(7, 5))\n",
    "axs[0].imshow(f1['profiles'][0, 0:17, :, wave_ind1, 0], cmap='gray', origin='lower')\n",
    "axs[1].imshow(f2['profiles'][0, 0:17, :, ind[wave_ind2] + 1236, 0], cmap='gray', origin='lower')"
   ]
  },
  {
   "cell_type": "code",
   "execution_count": 30,
   "metadata": {},
   "outputs": [
    {
     "data": {
      "text/plain": [
       "<matplotlib.legend.Legend at 0x7f2efc0e3f10>"
      ]
     },
     "execution_count": 30,
     "metadata": {},
     "output_type": "execute_result"
    }
   ],
   "source": [
    "x=10\n",
    "y=36\n",
    "plt.plot(f1['wav'][()], f1['profiles'][0, x, y, :, 0], label='Synth')\n",
    "plt.plot(f2['wav'][ind+1236], f2['profiles'][0, x, y, ind+1236, 0], label='obs')\n",
    "plt.legend()"
   ]
  },
  {
   "cell_type": "code",
   "execution_count": 31,
   "metadata": {},
   "outputs": [
    {
     "data": {
      "text/plain": [
       "<matplotlib.legend.Legend at 0x7f2efc067fd0>"
      ]
     },
     "execution_count": 31,
     "metadata": {},
     "output_type": "execute_result"
    }
   ],
   "source": [
    "x=10\n",
    "y=36\n",
    "plt.plot(f1['wav'][()], f1['profiles'][0, x, y, :, 3] / f1['profiles'][0, x, y, :, 0], label='Synth')\n",
    "plt.plot(f2['wav'][ind+1236], f2['profiles'][0, x, y, ind+1236, 3] / f2['profiles'][0, x, y, ind+1236, 0], label='obs')\n",
    "plt.legend()"
   ]
  },
  {
   "cell_type": "code",
   "execution_count": null,
   "metadata": {},
   "outputs": [],
   "source": []
  }
 ],
 "metadata": {
  "kernelspec": {
   "display_name": "Python 3",
   "language": "python",
   "name": "python3"
  },
  "language_info": {
   "codemirror_mode": {
    "name": "ipython",
    "version": 3
   },
   "file_extension": ".py",
   "mimetype": "text/x-python",
   "name": "python",
   "nbconvert_exporter": "python",
   "pygments_lexer": "ipython3",
   "version": "3.7.12"
  }
 },
 "nbformat": 4,
 "nbformat_minor": 4
}
