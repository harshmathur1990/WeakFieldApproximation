{
 "cells": [
  {
   "cell_type": "code",
   "execution_count": 1,
   "metadata": {},
   "outputs": [],
   "source": [
    "from os.path import getsize\n",
    "from xdr_tools import *\n",
    "from _vacuumtoair import *\n",
    "import h5py"
   ]
  },
  {
   "cell_type": "code",
   "execution_count": 2,
   "metadata": {},
   "outputs": [],
   "source": [
    "__XDR_Specs__ = dict()\n",
    "__XDR_Specs__['atmos_3d_input'] = XDR_Specs(\n",
    "    [\n",
    "        ['Nx', int, None],\n",
    "        ['Ny', int, None],\n",
    "        ['Nz', int, None],\n",
    "        ['NHydr', int, None],\n",
    "        ['Top', int, None],\n",
    "        ['Bot', int, None],\n",
    "        ['dx', float, None],\n",
    "        ['dy', float, None],\n",
    "        ['z', float, 'Nz'],\n",
    "        ['T', float, '(Nx,Ny,Nz)'],\n",
    "        ['ne', float, '(Nx,Ny,Nz)'],\n",
    "        ['vturb', float, '(Nx,Ny,Nz)'],\n",
    "        ['vx', float, '(Nx,Ny,Nz)'],\n",
    "        ['vy', float, '(Nx,Ny,Nz)'],\n",
    "        ['vz', float, '(Nx,Ny,Nz)'],\n",
    "        ['nH', float, '(Nx,Ny,Nz,NHydr)']\n",
    "    ]\n",
    ")"
   ]
  },
  {
   "cell_type": "code",
   "execution_count": 3,
   "metadata": {},
   "outputs": [],
   "source": [
    "specs = XDR_Specs(__XDR_Specs__['atmos_3d_input'])"
   ]
  },
  {
   "cell_type": "code",
   "execution_count": 4,
   "metadata": {},
   "outputs": [],
   "source": [
    "reader = XDR_Reader(specs)\n",
    "wt = XDR_Struct(specs)"
   ]
  },
  {
   "cell_type": "code",
   "execution_count": 5,
   "metadata": {},
   "outputs": [],
   "source": [
    "f = h5py.File('/home/harsh/BifrostRun/bifrost_en024048_hion_0_504_0_504_-500000.0_3000000.0.nc', 'r')"
   ]
  },
  {
   "cell_type": "code",
   "execution_count": 6,
   "metadata": {},
   "outputs": [
    {
     "data": {
      "text/plain": [
       "<KeysViewHDF5 ['B_x', 'B_y', 'B_z', 'depth', 'electron_density', 'hydrogen_populations', 'nhydr', 'snapshot_number', 'temperature', 'velocity_x', 'velocity_y', 'velocity_z', 'x', 'y', 'z']>"
      ]
     },
     "execution_count": 6,
     "metadata": {},
     "output_type": "execute_result"
    }
   ],
   "source": [
    "f.keys()"
   ]
  },
  {
   "cell_type": "code",
   "execution_count": 7,
   "metadata": {},
   "outputs": [],
   "source": [
    "wt['Nx'] = f['x'][()].size"
   ]
  },
  {
   "cell_type": "code",
   "execution_count": 8,
   "metadata": {},
   "outputs": [],
   "source": [
    "wt['Ny'] = f['y'][()].size"
   ]
  },
  {
   "cell_type": "code",
   "execution_count": 9,
   "metadata": {},
   "outputs": [],
   "source": [
    "wt['Nz'] = f['z'].shape[-1]"
   ]
  },
  {
   "cell_type": "code",
   "execution_count": 10,
   "metadata": {},
   "outputs": [],
   "source": [
    "wt['NHydr'] = f['nhydr'][()].size"
   ]
  },
  {
   "cell_type": "code",
   "execution_count": 11,
   "metadata": {},
   "outputs": [
    {
     "data": {
      "text/plain": [
       "<KeysViewHDF5 ['comment', 'boundary_top', 'boundary_bottom', 'has_B', 'description', 'nx', 'ny', 'nz', 'nt', '_NCProperties']>"
      ]
     },
     "execution_count": 11,
     "metadata": {},
     "output_type": "execute_result"
    }
   ],
   "source": [
    "f.attrs.keys()"
   ]
  },
  {
   "cell_type": "code",
   "execution_count": 12,
   "metadata": {},
   "outputs": [
    {
     "data": {
      "text/plain": [
       "b'Bifrost Simulation (simulation_name, start_x, end_x, start_y, end_y, height_min_in_m, height_max_in_m) - en024048_hion - 0 - 504 - 0 - 504 - -500000.0 - 3000000.0'"
      ]
     },
     "execution_count": 12,
     "metadata": {},
     "output_type": "execute_result"
    }
   ],
   "source": [
    "f.attrs['description']"
   ]
  },
  {
   "cell_type": "code",
   "execution_count": 13,
   "metadata": {},
   "outputs": [
    {
     "data": {
      "text/plain": [
       "(0, 1)"
      ]
     },
     "execution_count": 13,
     "metadata": {},
     "output_type": "execute_result"
    }
   ],
   "source": [
    "f.attrs['boundary_top'][()][0], f.attrs['boundary_bottom'][()][0]"
   ]
  },
  {
   "cell_type": "code",
   "execution_count": 14,
   "metadata": {},
   "outputs": [],
   "source": [
    "wt['Top'] = 1"
   ]
  },
  {
   "cell_type": "code",
   "execution_count": 15,
   "metadata": {},
   "outputs": [],
   "source": [
    "wt['Bot'] = 2"
   ]
  },
  {
   "cell_type": "code",
   "execution_count": 16,
   "metadata": {},
   "outputs": [],
   "source": [
    "wt['dx'] = 48.0"
   ]
  },
  {
   "cell_type": "code",
   "execution_count": 17,
   "metadata": {},
   "outputs": [],
   "source": [
    "wt['dy'] = 48.0"
   ]
  },
  {
   "cell_type": "code",
   "execution_count": 18,
   "metadata": {},
   "outputs": [],
   "source": [
    "wt['z'] = f['z'][0, 0, 1]/1e3"
   ]
  },
  {
   "cell_type": "code",
   "execution_count": 19,
   "metadata": {},
   "outputs": [
    {
     "data": {
      "text/plain": [
       "(1, 504, 504, 177)"
      ]
     },
     "execution_count": 19,
     "metadata": {},
     "output_type": "execute_result"
    }
   ],
   "source": [
    "f['temperature'].shape"
   ]
  },
  {
   "cell_type": "code",
   "execution_count": 20,
   "metadata": {},
   "outputs": [],
   "source": [
    "wt['T'] = f['temperature'][0]"
   ]
  },
  {
   "cell_type": "code",
   "execution_count": 21,
   "metadata": {},
   "outputs": [],
   "source": [
    "wt['ne'] = f['electron_density'][0]"
   ]
  },
  {
   "cell_type": "code",
   "execution_count": 22,
   "metadata": {},
   "outputs": [],
   "source": [
    "wt['vturb'] = np.zeros((f['x'][()].size, f['y'][()].size, f['z'].shape[-1]))"
   ]
  },
  {
   "cell_type": "code",
   "execution_count": 23,
   "metadata": {},
   "outputs": [],
   "source": [
    "wt['vx'] = f['velocity_x'][0]/1e3"
   ]
  },
  {
   "cell_type": "code",
   "execution_count": 24,
   "metadata": {},
   "outputs": [],
   "source": [
    "wt['vy'] = f['velocity_y'][0]/1e3"
   ]
  },
  {
   "cell_type": "code",
   "execution_count": 25,
   "metadata": {},
   "outputs": [],
   "source": [
    "wt['vz'] = f['velocity_z'][0] / 1e3"
   ]
  },
  {
   "cell_type": "code",
   "execution_count": 26,
   "metadata": {},
   "outputs": [],
   "source": [
    "wt['nH'] = np.transpose(f['hydrogen_populations'][0], axes=(1, 2, 3, 0))"
   ]
  },
  {
   "cell_type": "code",
   "execution_count": 27,
   "metadata": {},
   "outputs": [
    {
     "data": {
      "text/plain": [
       "Nx           <class 'int'>\n",
       "Ny           <class 'int'>\n",
       "Nz           <class 'int'>\n",
       "NHydr        <class 'int'>\n",
       "Top          <class 'int'>\n",
       "Bot          <class 'int'>\n",
       "dx           <class 'float'>\n",
       "dy           <class 'float'>\n",
       "z            <class 'numpy.ndarray'>         (177,)\n",
       "T            <class 'numpy.ndarray'>         (504, 504, 177)\n",
       "ne           <class 'numpy.ndarray'>         (504, 504, 177)\n",
       "vturb        <class 'numpy.ndarray'>         (504, 504, 177)\n",
       "vx           <class 'numpy.ndarray'>         (504, 504, 177)\n",
       "vy           <class 'numpy.ndarray'>         (504, 504, 177)\n",
       "vz           <class 'numpy.ndarray'>         (504, 504, 177)\n",
       "nH           <class 'numpy.ndarray'>         (504, 504, 177, 6)"
      ]
     },
     "execution_count": 27,
     "metadata": {},
     "output_type": "execute_result"
    }
   ],
   "source": [
    "wt"
   ]
  },
  {
   "cell_type": "code",
   "execution_count": 28,
   "metadata": {},
   "outputs": [],
   "source": [
    "reader.write('/home/harsh/BifrostRun/bifrost_en024048_hion_0_504_0_504_-500000.0_3000000.0.dat', wt)"
   ]
  },
  {
   "cell_type": "code",
   "execution_count": 29,
   "metadata": {},
   "outputs": [],
   "source": [
    "atmos_3d = reader.read('/home/harsh/BifrostRun/bifrost_en024048_hion_0_504_0_504_-500000.0_3000000.0.dat')"
   ]
  },
  {
   "cell_type": "code",
   "execution_count": null,
   "metadata": {},
   "outputs": [],
   "source": []
  }
 ],
 "metadata": {
  "kernelspec": {
   "display_name": "Python 3",
   "language": "python",
   "name": "python3"
  },
  "language_info": {
   "codemirror_mode": {
    "name": "ipython",
    "version": 3
   },
   "file_extension": ".py",
   "mimetype": "text/x-python",
   "name": "python",
   "nbconvert_exporter": "python",
   "pygments_lexer": "ipython3",
   "version": "3.7.12"
  }
 },
 "nbformat": 4,
 "nbformat_minor": 4
}
