{
 "cells": [
  {
   "cell_type": "code",
   "execution_count": 1,
   "metadata": {},
   "outputs": [],
   "source": [
    "%matplotlib qt5\n",
    "import sys\n",
    "sys.path.insert(1, '/home/harsh/CourseworkRepo/rh/rhv2src/python/')\n",
    "from os.path import getsize\n",
    "from xdr_tools import *\n",
    "from _vacuumtoair import *\n",
    "import h5py\n",
    "import matplotlib.pyplot as plt"
   ]
  },
  {
   "cell_type": "code",
   "execution_count": 2,
   "metadata": {},
   "outputs": [],
   "source": [
    "__XDR_Specs__ = dict()\n",
    "__XDR_Specs__['atmos_3d_input'] = XDR_Specs(\n",
    "    [\n",
    "        ['Nx', int, None],\n",
    "        ['Ny', int, None],\n",
    "        ['Nz', int, None],\n",
    "        ['NHydr', int, None],\n",
    "        ['Top', int, None],\n",
    "        ['Bot', int, None],\n",
    "        ['dx', float, None],\n",
    "        ['dy', float, None],\n",
    "        ['z', float, 'Nz'],\n",
    "        ['T', float, '(Nx,Ny,Nz)'],\n",
    "        ['ne', float, '(Nx,Ny,Nz)'],\n",
    "        ['vturb', float, '(Nx,Ny,Nz)'],\n",
    "        ['vx', float, '(Nx,Ny,Nz)'],\n",
    "        ['vy', float, '(Nx,Ny,Nz)'],\n",
    "        ['vz', float, '(Nx,Ny,Nz)'],\n",
    "        ['nH', float, '(Nx,Ny,Nz,NHydr)']\n",
    "    ]\n",
    ")"
   ]
  },
  {
   "cell_type": "code",
   "execution_count": 3,
   "metadata": {},
   "outputs": [],
   "source": [
    "specs = XDR_Specs(__XDR_Specs__['atmos_3d_input'])"
   ]
  },
  {
   "cell_type": "code",
   "execution_count": 4,
   "metadata": {},
   "outputs": [],
   "source": [
    "reader = XDR_Reader(specs)\n",
    "wt = XDR_Struct(specs)"
   ]
  },
  {
   "cell_type": "code",
   "execution_count": 5,
   "metadata": {},
   "outputs": [],
   "source": [
    "f = h5py.File('/home/harsh/BifrostRun/bifrost_en024048_hion_0_504_0_504_-500000.0_3000000.0.nc', 'r')"
   ]
  },
  {
   "cell_type": "code",
   "execution_count": 6,
   "metadata": {},
   "outputs": [
    {
     "data": {
      "text/plain": [
       "<KeysViewHDF5 ['B_x', 'B_y', 'B_z', 'depth', 'electron_density', 'hydrogen_populations', 'nhydr', 'snapshot_number', 'temperature', 'velocity_x', 'velocity_y', 'velocity_z', 'x', 'y', 'z']>"
      ]
     },
     "execution_count": 6,
     "metadata": {},
     "output_type": "execute_result"
    }
   ],
   "source": [
    "f.keys()"
   ]
  },
  {
   "cell_type": "code",
   "execution_count": 7,
   "metadata": {},
   "outputs": [
    {
     "name": "stdout",
     "output_type": "stream",
     "text": [
      "2000.552875\n"
     ]
    },
    {
     "data": {
      "text/plain": [
       "<matplotlib.image.AxesImage at 0x7f1d11d257d0>"
      ]
     },
     "execution_count": 7,
     "metadata": {},
     "output_type": "execute_result"
    }
   ],
   "source": [
    "height = f['z'][0, 0, 0]/1e3\n",
    "ind = np.argmin(np.abs(height - 2000))\n",
    "print(height[ind])\n",
    "plt.imshow(f['temperature'][0, :, :, ind], cmap='gray', origin='lower')"
   ]
  },
  {
   "cell_type": "code",
   "execution_count": 8,
   "metadata": {},
   "outputs": [
    {
     "data": {
      "text/plain": [
       "array([ 0.80144086,  0.766992  ,  0.74393109,  0.73156201,  0.71660303,\n",
       "        0.70923309,  0.72862616,  0.76409045,  0.78255255,  0.8241875 ,\n",
       "        0.8538089 ,  0.91681415,  1.00760785,  1.11441125,  1.25221423,\n",
       "        1.37750842,  1.50729272,  1.57101917,  1.65087134,  1.70153857,\n",
       "        1.73374756,  1.72640308,  1.74263037,  1.75936804,  1.79209839,\n",
       "        1.77750525,  1.8237832 ,  1.89799585,  2.02307947,  2.08800171,\n",
       "        1.95015259,  1.95231897,  2.12087036,  2.16536035,  2.1814458 ,\n",
       "        2.26200635,  2.43976392,  2.79066187,  3.18836548,  3.37090991,\n",
       "        3.51282031,  3.67958521,  3.78777368,  3.92629419,  4.00840283,\n",
       "        3.97025684,  3.94000464,  3.89164185,  3.87704712,  3.80220557,\n",
       "        3.7505918 ,  3.56468896,  3.34897681,  3.09533398,  2.64917017,\n",
       "        2.09251392,  1.48177319,  0.98913196,  0.52487445,  0.0601281 ,\n",
       "       -0.27326648, -0.57763489, -0.83331317, -0.96296484, -1.04695972,\n",
       "       -1.0871571 , -1.11266687, -1.05135852, -0.85537427, -0.49382648,\n",
       "        0.02514772,  0.54209784,  0.92027075,  1.61551404,  2.15063501,\n",
       "        2.36612378,  2.53543628,  2.56656372,  2.35680005,  2.02255188,\n",
       "        1.66816553,  1.29662402,  0.96834894,  0.66231342,  0.42798807,\n",
       "        0.23783179, -0.08756314, -0.42026257, -0.79460327, -1.10760327,\n",
       "       -1.19213159, -1.1941261 , -1.14402319, -0.93434613, -0.68560712,\n",
       "       -0.4130127 , -0.20924493,  0.05174183,  0.23997275,  0.39917554,\n",
       "        0.60912445,  0.7815379 ,  0.94030292,  1.0985387 ,  1.18533154,\n",
       "        1.23623022,  1.28488196,  1.30808447,  1.31836792,  1.32207703,\n",
       "        1.2788822 ,  1.19663892,  1.14152612,  1.10441711,  1.08569299,\n",
       "        1.08365222,  1.10399768,  1.1477854 ,  1.21649146,  1.26463953,\n",
       "        1.30432739,  1.3221178 ,  1.3373053 ,  1.34612439,  1.34882336,\n",
       "        1.34984058,  1.30996338,  1.21762415,  1.18196741,  1.1155708 ,\n",
       "        1.07760303,  1.02655994,  0.98904858,  0.99123309,  0.98754547,\n",
       "        0.98313257,  1.00063354,  1.04736255,  1.12332495,  1.24002148,\n",
       "        1.4104364 ,  1.56234399,  1.64899805,  1.73080261,  1.83542493,\n",
       "        2.01771521,  2.18050537,  2.30050049,  2.3251167 ,  2.31412744,\n",
       "        2.25357959,  2.18491382,  2.11769409,  2.05312231,  1.98398901,\n",
       "        1.90675073,  1.74003198,  1.6202146 ,  1.48138965,  1.37783289,\n",
       "        1.30831506,  1.26691687,  1.24486963,  1.23035852,  1.22755481,\n",
       "        1.23334399,  1.26633203,  1.28280444,  1.29461377,  1.30115625,\n",
       "        1.29624695,  1.23038367,  1.08645374,  0.85224847,  0.59460278,\n",
       "        0.42902737,  0.30065698])"
      ]
     },
     "execution_count": 8,
     "metadata": {},
     "output_type": "execute_result"
    }
   ],
   "source": [
    "f['velocity_x'][0, 200, 200]/1e3"
   ]
  },
  {
   "cell_type": "code",
   "execution_count": 10,
   "metadata": {},
   "outputs": [
    {
     "data": {
      "text/plain": [
       "<matplotlib.image.AxesImage at 0x7f1d1104f690>"
      ]
     },
     "execution_count": 10,
     "metadata": {},
     "output_type": "execute_result"
    }
   ],
   "source": [
    "NX1 = 280\n",
    "NX2 = 311\n",
    "NY1 = 210\n",
    "NY2 = 241\n",
    "plt.imshow(f['temperature'][0, NX1:NX2, NY1:NY2, ind], cmap='gray', origin='lower')"
   ]
  },
  {
   "cell_type": "code",
   "execution_count": 11,
   "metadata": {},
   "outputs": [],
   "source": [
    "wt['Nx'] = NX2-NX1"
   ]
  },
  {
   "cell_type": "code",
   "execution_count": 12,
   "metadata": {},
   "outputs": [],
   "source": [
    "wt['Ny'] = NY2-NY1"
   ]
  },
  {
   "cell_type": "code",
   "execution_count": 13,
   "metadata": {},
   "outputs": [],
   "source": [
    "wt['Nz'] = f['z'].shape[-1]"
   ]
  },
  {
   "cell_type": "code",
   "execution_count": 14,
   "metadata": {},
   "outputs": [],
   "source": [
    "wt['NHydr'] = f['nhydr'][()].size"
   ]
  },
  {
   "cell_type": "code",
   "execution_count": 15,
   "metadata": {},
   "outputs": [
    {
     "data": {
      "text/plain": [
       "<KeysViewHDF5 ['comment', 'boundary_top', 'boundary_bottom', 'has_B', 'description', 'nx', 'ny', 'nz', 'nt', '_NCProperties']>"
      ]
     },
     "execution_count": 15,
     "metadata": {},
     "output_type": "execute_result"
    }
   ],
   "source": [
    "f.attrs.keys()"
   ]
  },
  {
   "cell_type": "code",
   "execution_count": 16,
   "metadata": {},
   "outputs": [
    {
     "data": {
      "text/plain": [
       "b'Bifrost Simulation (simulation_name, start_x, end_x, start_y, end_y, height_min_in_m, height_max_in_m) - en024048_hion - 0 - 504 - 0 - 504 - -500000.0 - 3000000.0'"
      ]
     },
     "execution_count": 16,
     "metadata": {},
     "output_type": "execute_result"
    }
   ],
   "source": [
    "f.attrs['description']"
   ]
  },
  {
   "cell_type": "code",
   "execution_count": 17,
   "metadata": {},
   "outputs": [
    {
     "data": {
      "text/plain": [
       "(0, 1)"
      ]
     },
     "execution_count": 17,
     "metadata": {},
     "output_type": "execute_result"
    }
   ],
   "source": [
    "f.attrs['boundary_top'][()][0], f.attrs['boundary_bottom'][()][0]"
   ]
  },
  {
   "cell_type": "code",
   "execution_count": 18,
   "metadata": {},
   "outputs": [],
   "source": [
    "wt['Top'] = 1"
   ]
  },
  {
   "cell_type": "code",
   "execution_count": 19,
   "metadata": {},
   "outputs": [],
   "source": [
    "wt['Bot'] = 2"
   ]
  },
  {
   "cell_type": "code",
   "execution_count": 20,
   "metadata": {},
   "outputs": [],
   "source": [
    "wt['dx'] = 48.0"
   ]
  },
  {
   "cell_type": "code",
   "execution_count": 21,
   "metadata": {},
   "outputs": [],
   "source": [
    "wt['dy'] = 48.0"
   ]
  },
  {
   "cell_type": "code",
   "execution_count": 22,
   "metadata": {},
   "outputs": [],
   "source": [
    "wt['z'] = f['z'][0, 0, 1]/1e3"
   ]
  },
  {
   "cell_type": "code",
   "execution_count": 23,
   "metadata": {},
   "outputs": [
    {
     "data": {
      "text/plain": [
       "(1, 504, 504, 177)"
      ]
     },
     "execution_count": 23,
     "metadata": {},
     "output_type": "execute_result"
    }
   ],
   "source": [
    "f['temperature'].shape"
   ]
  },
  {
   "cell_type": "code",
   "execution_count": 24,
   "metadata": {},
   "outputs": [],
   "source": [
    "wt['T'] = f['temperature'][0, NX1:NX2, NY1:NY2]"
   ]
  },
  {
   "cell_type": "code",
   "execution_count": 25,
   "metadata": {},
   "outputs": [],
   "source": [
    "wt['ne'] = f['electron_density'][0, NX1:NX2, NY1:NY2]"
   ]
  },
  {
   "cell_type": "code",
   "execution_count": 26,
   "metadata": {},
   "outputs": [],
   "source": [
    "wt['vturb'] = np.zeros((NX2-NX1, NY2-NY1, f['z'].shape[-1]))"
   ]
  },
  {
   "cell_type": "code",
   "execution_count": 27,
   "metadata": {},
   "outputs": [],
   "source": [
    "wt['vx'] = f['velocity_x'][0, NX1:NX2, NY1:NY2]/1e3"
   ]
  },
  {
   "cell_type": "code",
   "execution_count": 28,
   "metadata": {},
   "outputs": [],
   "source": [
    "wt['vy'] = f['velocity_y'][0, NX1:NX2, NY1:NY2]/1e3"
   ]
  },
  {
   "cell_type": "code",
   "execution_count": 29,
   "metadata": {},
   "outputs": [],
   "source": [
    "wt['vz'] = f['velocity_z'][0, NX1:NX2, NY1:NY2] / 1e3"
   ]
  },
  {
   "cell_type": "code",
   "execution_count": 30,
   "metadata": {},
   "outputs": [],
   "source": [
    "wt['nH'] = np.transpose(f['hydrogen_populations'][0, :, NX1:NX2, NY1:NY2], axes=(1, 2, 3, 0))"
   ]
  },
  {
   "cell_type": "code",
   "execution_count": 31,
   "metadata": {},
   "outputs": [
    {
     "data": {
      "text/plain": [
       "Nx           <class 'int'>\n",
       "Ny           <class 'int'>\n",
       "Nz           <class 'int'>\n",
       "NHydr        <class 'int'>\n",
       "Top          <class 'int'>\n",
       "Bot          <class 'int'>\n",
       "dx           <class 'float'>\n",
       "dy           <class 'float'>\n",
       "z            <class 'numpy.ndarray'>         (177,)\n",
       "T            <class 'numpy.ndarray'>         (31, 31, 177)\n",
       "ne           <class 'numpy.ndarray'>         (31, 31, 177)\n",
       "vturb        <class 'numpy.ndarray'>         (31, 31, 177)\n",
       "vx           <class 'numpy.ndarray'>         (31, 31, 177)\n",
       "vy           <class 'numpy.ndarray'>         (31, 31, 177)\n",
       "vz           <class 'numpy.ndarray'>         (31, 31, 177)\n",
       "nH           <class 'numpy.ndarray'>         (31, 31, 177, 6)"
      ]
     },
     "execution_count": 31,
     "metadata": {},
     "output_type": "execute_result"
    }
   ],
   "source": [
    "wt"
   ]
  },
  {
   "cell_type": "code",
   "execution_count": 32,
   "metadata": {},
   "outputs": [],
   "source": [
    "reader.write('/home/harsh/BifrostRun/bifrost_en024048_hion_{}_{}_{}_{}_-500000.0_3000000.0.dat'.format(NX1, NX2, NY1, NY2), wt)"
   ]
  },
  {
   "cell_type": "code",
   "execution_count": 33,
   "metadata": {},
   "outputs": [],
   "source": [
    "__XDR_Specs__['b_3d'] = XDR_Specs(\n",
    "    [\n",
    "        ['B', float, '(Nx,Ny,Nz)'],\n",
    "        ['Binc', float, '(Nx,Ny,Nz)'],\n",
    "        ['Bazi', float, '(Nx,Ny,Nz)'],\n",
    "    ]\n",
    ")"
   ]
  },
  {
   "cell_type": "code",
   "execution_count": 34,
   "metadata": {},
   "outputs": [],
   "source": [
    "Babs = np.sqrt(\n",
    "        np.add(\n",
    "            np.square(f['B_x'][0, NX1:NX2, NY1:NY2]),\n",
    "            np.add(\n",
    "                np.square(f['B_y'][0, NX1:NX2, NY1:NY2]),\n",
    "                np.square(f['B_z'][0, NX1:NX2, NY1:NY2])\n",
    "            )\n",
    "        )\n",
    "    )"
   ]
  },
  {
   "cell_type": "code",
   "execution_count": 35,
   "metadata": {},
   "outputs": [
    {
     "data": {
      "text/plain": [
       "(31, 31, 177)"
      ]
     },
     "execution_count": 35,
     "metadata": {},
     "output_type": "execute_result"
    }
   ],
   "source": [
    "Babs.shape"
   ]
  },
  {
   "cell_type": "code",
   "execution_count": 36,
   "metadata": {},
   "outputs": [],
   "source": [
    "Binc = np.arccos(np.divide(f['B_z'][0, NX1:NX2, NY1:NY2], Babs))"
   ]
  },
  {
   "cell_type": "code",
   "execution_count": 37,
   "metadata": {},
   "outputs": [
    {
     "data": {
      "text/plain": [
       "(31, 31, 177)"
      ]
     },
     "execution_count": 37,
     "metadata": {},
     "output_type": "execute_result"
    }
   ],
   "source": [
    "Binc.shape"
   ]
  },
  {
   "cell_type": "code",
   "execution_count": 38,
   "metadata": {},
   "outputs": [],
   "source": [
    "Bazi = np.arctan2(f['B_y'][0, NX1:NX2, NY1:NY2], f['B_x'][0, NX1:NX2, NY1:NY2])"
   ]
  },
  {
   "cell_type": "code",
   "execution_count": 39,
   "metadata": {},
   "outputs": [
    {
     "data": {
      "text/plain": [
       "(31, 31, 177)"
      ]
     },
     "execution_count": 39,
     "metadata": {},
     "output_type": "execute_result"
    }
   ],
   "source": [
    "Bazi.shape"
   ]
  },
  {
   "cell_type": "code",
   "execution_count": 40,
   "metadata": {},
   "outputs": [],
   "source": [
    "specs = XDR_Specs(__XDR_Specs__['b_3d'])\n",
    "reader = XDR_Reader(specs)\n",
    "wt = XDR_Struct(specs)"
   ]
  },
  {
   "cell_type": "code",
   "execution_count": 41,
   "metadata": {},
   "outputs": [],
   "source": [
    "wt['B'] = Babs\n",
    "wt['Binc'] = Binc\n",
    "wt['Bazi'] = Bazi"
   ]
  },
  {
   "cell_type": "code",
   "execution_count": 42,
   "metadata": {},
   "outputs": [
    {
     "data": {
      "text/plain": [
       "B            <class 'numpy.ndarray'>         (31, 31, 177)\n",
       "Binc         <class 'numpy.ndarray'>         (31, 31, 177)\n",
       "Bazi         <class 'numpy.ndarray'>         (31, 31, 177)"
      ]
     },
     "execution_count": 42,
     "metadata": {},
     "output_type": "execute_result"
    }
   ],
   "source": [
    "wt"
   ]
  },
  {
   "cell_type": "code",
   "execution_count": 43,
   "metadata": {},
   "outputs": [],
   "source": [
    "reader.write('/home/harsh/BifrostRun/bifrost_en024048_hion_{}_{}_{}_{}_-500000.0_3000000.0_B.dat'.format(NX1, NX2, NY1, NY2), wt)"
   ]
  },
  {
   "cell_type": "code",
   "execution_count": null,
   "metadata": {},
   "outputs": [],
   "source": []
  }
 ],
 "metadata": {
  "kernelspec": {
   "display_name": "Python 3",
   "language": "python",
   "name": "python3"
  },
  "language_info": {
   "codemirror_mode": {
    "name": "ipython",
    "version": 3
   },
   "file_extension": ".py",
   "mimetype": "text/x-python",
   "name": "python",
   "nbconvert_exporter": "python",
   "pygments_lexer": "ipython3",
   "version": "3.7.12"
  }
 },
 "nbformat": 4,
 "nbformat_minor": 4
}
