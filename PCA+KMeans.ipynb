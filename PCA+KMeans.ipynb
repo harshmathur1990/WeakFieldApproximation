{
 "cells": [
  {
   "cell_type": "code",
   "execution_count": 1,
   "id": "d8392996",
   "metadata": {},
   "outputs": [],
   "source": [
    "%matplotlib qt5\n",
    "from sklearn.decomposition import PCA\n",
    "from sklearn.cluster import KMeans\n",
    "import numpy as np\n",
    "import h5py\n",
    "import matplotlib.pyplot as plt\n",
    "from pathlib import Path\n",
    "import numpy.linalg as linalg"
   ]
  },
  {
   "cell_type": "code",
   "execution_count": 2,
   "id": "51510e3f",
   "metadata": {},
   "outputs": [],
   "source": [
    "base_path = Path('/home/harsh/SpinorNagaraju/maps_1/stic/processed_inputs/')"
   ]
  },
  {
   "cell_type": "code",
   "execution_count": 3,
   "id": "00e64ecd",
   "metadata": {},
   "outputs": [],
   "source": [
    "inp_filename = 'alignedspectra_scan1_map01_Ca.fits_stic_profiles.nc'"
   ]
  },
  {
   "cell_type": "code",
   "execution_count": 4,
   "id": "a6836278",
   "metadata": {},
   "outputs": [],
   "source": [
    "f = h5py.File(base_path / inp_filename, 'r')"
   ]
  },
  {
   "cell_type": "code",
   "execution_count": 5,
   "id": "fc84056a",
   "metadata": {},
   "outputs": [],
   "source": [
    "ind = np.where(f['profiles'][0, 0, 0, :, 0] != 0)[0]"
   ]
  },
  {
   "cell_type": "code",
   "execution_count": 6,
   "id": "84aff461",
   "metadata": {},
   "outputs": [],
   "source": [
    "data = f['profiles'][0, :, :, ind, :]"
   ]
  },
  {
   "cell_type": "code",
   "execution_count": 7,
   "id": "5f1f0e52",
   "metadata": {},
   "outputs": [
    {
     "data": {
      "text/plain": [
       "(19, 60, 306, 4)"
      ]
     },
     "execution_count": 7,
     "metadata": {},
     "output_type": "execute_result"
    }
   ],
   "source": [
    "data.shape"
   ]
  },
  {
   "cell_type": "code",
   "execution_count": 8,
   "id": "3f41f649",
   "metadata": {},
   "outputs": [],
   "source": [
    "f.close()"
   ]
  },
  {
   "cell_type": "code",
   "execution_count": 9,
   "id": "ebcda68e",
   "metadata": {},
   "outputs": [],
   "source": [
    "in_data = data.reshape(19*60, 306, 4)"
   ]
  },
  {
   "cell_type": "code",
   "execution_count": 10,
   "id": "a8df6686",
   "metadata": {},
   "outputs": [],
   "source": [
    "pca = PCA()"
   ]
  },
  {
   "cell_type": "code",
   "execution_count": 11,
   "id": "39e4e48a",
   "metadata": {},
   "outputs": [
    {
     "data": {
      "text/plain": [
       "PCA()"
      ]
     },
     "execution_count": 11,
     "metadata": {},
     "output_type": "execute_result"
    }
   ],
   "source": [
    "pca.fit(in_data[:, :, 0].copy())"
   ]
  },
  {
   "cell_type": "code",
   "execution_count": 12,
   "id": "926c6a99",
   "metadata": {},
   "outputs": [
    {
     "data": {
      "text/plain": [
       "[<matplotlib.lines.Line2D at 0x7f08ef0c5c50>]"
      ]
     },
     "execution_count": 12,
     "metadata": {},
     "output_type": "execute_result"
    }
   ],
   "source": [
    "plt.plot(pca.explained_variance_ratio_)"
   ]
  },
  {
   "cell_type": "code",
   "execution_count": 24,
   "id": "04c82455",
   "metadata": {},
   "outputs": [],
   "source": [
    "tt = pca.fit_transform(in_data[:, :, 0].copy())"
   ]
  },
  {
   "cell_type": "code",
   "execution_count": 25,
   "id": "4d2b6f66",
   "metadata": {},
   "outputs": [
    {
     "data": {
      "text/plain": [
       "(1140, 306)"
      ]
     },
     "execution_count": 25,
     "metadata": {},
     "output_type": "execute_result"
    }
   ],
   "source": [
    "tt.shape"
   ]
  },
  {
   "cell_type": "code",
   "execution_count": 15,
   "id": "f625859a",
   "metadata": {},
   "outputs": [
    {
     "data": {
      "text/plain": [
       "[<matplotlib.lines.Line2D at 0x7f08ef5b9510>]"
      ]
     },
     "execution_count": 15,
     "metadata": {},
     "output_type": "execute_result"
    }
   ],
   "source": [
    "plt.plot(tt[0])"
   ]
  },
  {
   "cell_type": "code",
   "execution_count": 22,
   "id": "01358481",
   "metadata": {},
   "outputs": [
    {
     "data": {
      "text/plain": [
       "[<matplotlib.lines.Line2D at 0x7f08ed0e8090>]"
      ]
     },
     "execution_count": 22,
     "metadata": {},
     "output_type": "execute_result"
    }
   ],
   "source": [
    "plt.plot(pca.components_[6])"
   ]
  },
  {
   "cell_type": "code",
   "execution_count": 37,
   "id": "3ee49298",
   "metadata": {},
   "outputs": [],
   "source": [
    "kmeans = KMeans(tol=1e-6, n_clusters=30)"
   ]
  },
  {
   "cell_type": "code",
   "execution_count": 38,
   "id": "31e86bfa",
   "metadata": {},
   "outputs": [
    {
     "data": {
      "text/plain": [
       "KMeans(n_clusters=30, tol=1e-06)"
      ]
     },
     "execution_count": 38,
     "metadata": {},
     "output_type": "execute_result"
    }
   ],
   "source": [
    "kmeans.fit(tt[:, 1:20])"
   ]
  },
  {
   "cell_type": "code",
   "execution_count": 39,
   "id": "f005e284",
   "metadata": {},
   "outputs": [
    {
     "data": {
      "text/plain": [
       "14"
      ]
     },
     "execution_count": 39,
     "metadata": {},
     "output_type": "execute_result"
    }
   ],
   "source": [
    "kmeans.n_iter_"
   ]
  },
  {
   "cell_type": "code",
   "execution_count": 41,
   "id": "0dc9e2d0",
   "metadata": {},
   "outputs": [],
   "source": [
    "final_labels = kmeans.labels_.reshape(19, 60)"
   ]
  },
  {
   "cell_type": "code",
   "execution_count": 42,
   "id": "35484dc6",
   "metadata": {},
   "outputs": [
    {
     "data": {
      "text/plain": [
       "<matplotlib.image.AxesImage at 0x7f08ec89cc50>"
      ]
     },
     "execution_count": 42,
     "metadata": {},
     "output_type": "execute_result"
    }
   ],
   "source": [
    "plt.imshow(final_labels, cmap='gray', origin='lower')"
   ]
  },
  {
   "cell_type": "code",
   "execution_count": 43,
   "id": "a23b2155",
   "metadata": {},
   "outputs": [],
   "source": [
    "total_labels = final_labels.max() + 1"
   ]
  },
  {
   "cell_type": "code",
   "execution_count": 44,
   "id": "1827895d",
   "metadata": {},
   "outputs": [],
   "source": [
    "rps = np.zeros(\n",
    "        (total_labels, ind.size, 4),\n",
    "        dtype=np.float64\n",
    "    )"
   ]
  },
  {
   "cell_type": "code",
   "execution_count": 45,
   "id": "7ae2fbf7",
   "metadata": {},
   "outputs": [],
   "source": [
    "for i in range(total_labels):\n",
    "    a, b = np.where(final_labels == i)\n",
    "    rps[i] = np.mean(data[a, b], axis=0)"
   ]
  },
  {
   "cell_type": "code",
   "execution_count": 46,
   "id": "50c70a96",
   "metadata": {},
   "outputs": [
    {
     "data": {
      "text/plain": [
       "2"
      ]
     },
     "execution_count": 46,
     "metadata": {},
     "output_type": "execute_result"
    }
   ],
   "source": [
    "final_labels[12, 40]"
   ]
  },
  {
   "cell_type": "code",
   "execution_count": null,
   "id": "b9664c06",
   "metadata": {},
   "outputs": [],
   "source": [
    "plt.plot(data[12, 40, :, 0])"
   ]
  },
  {
   "cell_type": "code",
   "execution_count": 47,
   "id": "322d24b3",
   "metadata": {},
   "outputs": [
    {
     "data": {
      "text/plain": [
       "[<matplotlib.lines.Line2D at 0x7f08ec870b50>]"
      ]
     },
     "execution_count": 47,
     "metadata": {},
     "output_type": "execute_result"
    }
   ],
   "source": [
    "plt.plot(rps[2, :, 0])"
   ]
  },
  {
   "cell_type": "code",
   "execution_count": 48,
   "id": "4f2d556c",
   "metadata": {},
   "outputs": [],
   "source": [
    "a, b = np.where(final_labels == 2)"
   ]
  },
  {
   "cell_type": "code",
   "execution_count": 49,
   "id": "0b9d85cd",
   "metadata": {},
   "outputs": [
    {
     "data": {
      "text/plain": [
       "(array([ 7,  7,  9,  9,  9,  9, 10, 10, 10, 11, 11, 11, 12, 12, 12, 13, 13,\n",
       "        14, 14, 15, 15, 16]),\n",
       " array([39, 40, 39, 40, 41, 42, 39, 40, 41, 39, 40, 41, 39, 40, 41, 37, 39,\n",
       "        25, 37, 25, 36, 36]))"
      ]
     },
     "execution_count": 49,
     "metadata": {},
     "output_type": "execute_result"
    }
   ],
   "source": [
    "a, b"
   ]
  },
  {
   "cell_type": "code",
   "execution_count": null,
   "id": "97f9c5c3",
   "metadata": {},
   "outputs": [],
   "source": [
    "f1 = h5py.File('/home/harsh/SpinorNagaraju/maps_1/stic/chosen_out_30.h5', 'r')"
   ]
  },
  {
   "cell_type": "code",
   "execution_count": null,
   "id": "f4000343",
   "metadata": {},
   "outputs": [],
   "source": [
    "a1, b1 = np.where(f1['final_labels'][()] == 24)"
   ]
  },
  {
   "cell_type": "code",
   "execution_count": null,
   "id": "fda77b91",
   "metadata": {},
   "outputs": [],
   "source": [
    "a1, b1"
   ]
  },
  {
   "cell_type": "code",
   "execution_count": null,
   "id": "7d768fd4",
   "metadata": {},
   "outputs": [],
   "source": [
    "mask = np.zeros_like(final_labels)"
   ]
  },
  {
   "cell_type": "code",
   "execution_count": null,
   "id": "2d1950e4",
   "metadata": {},
   "outputs": [],
   "source": [
    "mask[a, b] = 1"
   ]
  },
  {
   "cell_type": "code",
   "execution_count": null,
   "id": "3305c150",
   "metadata": {},
   "outputs": [],
   "source": [
    "plt.imshow(mask, cmap='gray', origin='lower')"
   ]
  },
  {
   "cell_type": "code",
   "execution_count": 50,
   "id": "e0f6e8f2",
   "metadata": {},
   "outputs": [
    {
     "data": {
      "text/plain": [
       "18"
      ]
     },
     "execution_count": 50,
     "metadata": {},
     "output_type": "execute_result"
    }
   ],
   "source": [
    "final_labels[13, 27]"
   ]
  },
  {
   "cell_type": "code",
   "execution_count": 51,
   "id": "f6ca5b35",
   "metadata": {},
   "outputs": [
    {
     "data": {
      "text/plain": [
       "[<matplotlib.lines.Line2D at 0x7f08ec446450>]"
      ]
     },
     "execution_count": 51,
     "metadata": {},
     "output_type": "execute_result"
    }
   ],
   "source": [
    "plt.plot(rps[18, :, 0])"
   ]
  },
  {
   "cell_type": "code",
   "execution_count": 52,
   "id": "040f8c25",
   "metadata": {},
   "outputs": [],
   "source": [
    "a2, b2 = np.where(final_labels == 18)"
   ]
  },
  {
   "cell_type": "code",
   "execution_count": 53,
   "id": "a03a69e3",
   "metadata": {},
   "outputs": [
    {
     "data": {
      "text/plain": [
       "(array([13, 13, 14, 14, 14, 15, 15, 15, 15]),\n",
       " array([26, 27, 26, 27, 28, 26, 27, 28, 29]))"
      ]
     },
     "execution_count": 53,
     "metadata": {},
     "output_type": "execute_result"
    }
   ],
   "source": [
    "a2, b2"
   ]
  },
  {
   "cell_type": "code",
   "execution_count": null,
   "id": "da23a162",
   "metadata": {},
   "outputs": [],
   "source": [
    "mask[a2, b2] = 1"
   ]
  },
  {
   "cell_type": "code",
   "execution_count": null,
   "id": "b48b7b87",
   "metadata": {},
   "outputs": [],
   "source": [
    "final_labels[5, 45]"
   ]
  },
  {
   "cell_type": "code",
   "execution_count": null,
   "id": "e0d8f2a3",
   "metadata": {},
   "outputs": [],
   "source": [
    "plt.plot(rps[20, :, 0])"
   ]
  },
  {
   "cell_type": "code",
   "execution_count": null,
   "id": "7d5863e5",
   "metadata": {},
   "outputs": [],
   "source": [
    "final_labels[12, 28]"
   ]
  },
  {
   "cell_type": "code",
   "execution_count": null,
   "id": "3e0de434",
   "metadata": {},
   "outputs": [],
   "source": [
    "plt.plot(rps[4, :, 0])"
   ]
  },
  {
   "cell_type": "code",
   "execution_count": null,
   "id": "58e1687b",
   "metadata": {},
   "outputs": [],
   "source": [
    "f1['final_labels'][12, 40]"
   ]
  },
  {
   "cell_type": "code",
   "execution_count": null,
   "id": "9f209300",
   "metadata": {},
   "outputs": [],
   "source": [
    "plt.plot(f1['rps'][12, :, 0])"
   ]
  },
  {
   "cell_type": "code",
   "execution_count": null,
   "id": "5143686f",
   "metadata": {},
   "outputs": [],
   "source": [
    "f1['final_labels'][()][a1, b1]"
   ]
  },
  {
   "cell_type": "code",
   "execution_count": null,
   "id": "113487a3",
   "metadata": {},
   "outputs": [],
   "source": [
    "final_labels[13, 26]"
   ]
  },
  {
   "cell_type": "code",
   "execution_count": null,
   "id": "99d02656",
   "metadata": {},
   "outputs": [],
   "source": [
    "plt.plot(rps[25, :, 0])"
   ]
  },
  {
   "cell_type": "code",
   "execution_count": null,
   "id": "d1f78628",
   "metadata": {},
   "outputs": [],
   "source": [
    "a3, b3 = np.where(final_labels == 25)"
   ]
  },
  {
   "cell_type": "code",
   "execution_count": null,
   "id": "0840979e",
   "metadata": {},
   "outputs": [],
   "source": [
    "mask[a3, b3] = 1"
   ]
  },
  {
   "cell_type": "code",
   "execution_count": null,
   "id": "11e3cfd4",
   "metadata": {},
   "outputs": [],
   "source": [
    "plt.imshow(mask, cmap='gray', origin='lower')"
   ]
  },
  {
   "cell_type": "code",
   "execution_count": null,
   "id": "bd242797",
   "metadata": {},
   "outputs": [],
   "source": [
    "plt.plot(data[10, 1, :, 0])"
   ]
  },
  {
   "cell_type": "code",
   "execution_count": null,
   "id": "694856c9",
   "metadata": {},
   "outputs": [],
   "source": [
    "final_labels[13, 29]"
   ]
  },
  {
   "cell_type": "code",
   "execution_count": null,
   "id": "585e8777",
   "metadata": {},
   "outputs": [],
   "source": [
    "plt.plot(rps[27, :, 0])"
   ]
  },
  {
   "cell_type": "code",
   "execution_count": null,
   "id": "fb110962",
   "metadata": {},
   "outputs": [],
   "source": [
    "a4, b4 = np.where(final_labels == 27)"
   ]
  },
  {
   "cell_type": "code",
   "execution_count": null,
   "id": "182e949d",
   "metadata": {},
   "outputs": [],
   "source": [
    "mask[a4, b4] = 1"
   ]
  },
  {
   "cell_type": "code",
   "execution_count": null,
   "id": "42f718f6",
   "metadata": {},
   "outputs": [],
   "source": [
    "plt.imshow(mask, cmap='gray', origin='lower')"
   ]
  },
  {
   "cell_type": "code",
   "execution_count": null,
   "id": "67e0302b",
   "metadata": {},
   "outputs": [],
   "source": [
    "a4, b4"
   ]
  },
  {
   "cell_type": "code",
   "execution_count": null,
   "id": "f6965294",
   "metadata": {},
   "outputs": [],
   "source": []
  }
 ],
 "metadata": {
  "kernelspec": {
   "display_name": "Python 3 (ipykernel)",
   "language": "python",
   "name": "python3"
  },
  "language_info": {
   "codemirror_mode": {
    "name": "ipython",
    "version": 3
   },
   "file_extension": ".py",
   "mimetype": "text/x-python",
   "name": "python",
   "nbconvert_exporter": "python",
   "pygments_lexer": "ipython3",
   "version": "3.7.12"
  }
 },
 "nbformat": 4,
 "nbformat_minor": 5
}
