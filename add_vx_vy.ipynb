{
 "cells": [
  {
   "cell_type": "code",
   "execution_count": 9,
   "metadata": {},
   "outputs": [],
   "source": [
    "import h5py\n",
    "import sunpy.io.fits\n",
    "from pathlib import Path\n",
    "import numpy as np"
   ]
  },
  {
   "cell_type": "code",
   "execution_count": 4,
   "metadata": {},
   "outputs": [],
   "source": [
    "base_path = Path('/home/harsh/en024048_hion/atmos/')"
   ]
  },
  {
   "cell_type": "code",
   "execution_count": 5,
   "metadata": {},
   "outputs": [],
   "source": [
    "vx_file = 'BIFROST_en024048_hion_ux_412.fits'"
   ]
  },
  {
   "cell_type": "code",
   "execution_count": 6,
   "metadata": {},
   "outputs": [],
   "source": [
    "height, _ = sunpy.io.fits.read(\n",
    "        base_path / vx_file\n",
    "    )[1]"
   ]
  },
  {
   "cell_type": "code",
   "execution_count": 7,
   "metadata": {},
   "outputs": [],
   "source": [
    "height = height * 1e6"
   ]
  },
  {
   "cell_type": "code",
   "execution_count": 10,
   "metadata": {},
   "outputs": [],
   "source": [
    "ind = np.where((height >= -500e3) & (height <= 3000e3))[0]"
   ]
  },
  {
   "cell_type": "code",
   "execution_count": 11,
   "metadata": {},
   "outputs": [
    {
     "data": {
      "text/plain": [
       "(177,)"
      ]
     },
     "execution_count": 11,
     "metadata": {},
     "output_type": "execute_result"
    }
   ],
   "source": [
    "ind.shape"
   ]
  },
  {
   "cell_type": "code",
   "execution_count": 12,
   "metadata": {},
   "outputs": [
    {
     "data": {
      "text/plain": [
       "array([-494.41064 , -475.26248 , -456.17218 , -437.1338  , -418.1381  ,\n",
       "       -399.1745  , -380.22922 , -361.29147 , -342.35236 , -323.407   ,\n",
       "       -304.4525  , -285.4874  , -266.51    , -247.5204  , -228.5217  ,\n",
       "       -209.5154  , -190.49991 , -171.47679 , -152.43991 , -133.3893  ,\n",
       "       -114.3265  ,  -95.25451 ,  -76.181015,  -57.11212 ,  -38.05237 ,\n",
       "        -19.009401,   -0.      ,   18.937681,   37.728878,   56.370544,\n",
       "         74.983215,   93.67218 ,  112.5046  ,  131.5727  ,  150.89868 ,\n",
       "        170.3682  ,  189.8827  ,  209.40779 ,  228.93071 ,  248.4405  ,\n",
       "        267.9375  ,  287.4252  ,  306.90692 ,  326.384   ,  345.8618  ,\n",
       "        365.3473  ,  384.84122 ,  404.348   ,  423.8785  ,  443.4441  ,\n",
       "        463.0516  ,  482.7118  ,  502.43832 ,  522.242   ,  542.041   ,\n",
       "        561.8347  ,  581.6299  ,  601.4381  ,  621.27    ,  641.0424  ,\n",
       "        660.85956 ,  680.7274  ,  700.64246 ,  720.594   ,  740.5722  ,\n",
       "        760.5667  ,  780.56647 ,  800.56604 ,  820.5658  ,  840.5655  ,\n",
       "        860.5651  ,  880.56494 ,  900.56464 ,  920.5642  ,  940.564   ,\n",
       "        960.56366 ,  980.5633  , 1000.563   , 1020.563   , 1040.563   ,\n",
       "       1060.563   , 1080.563   , 1100.562   , 1120.562   , 1140.562   ,\n",
       "       1160.561   , 1180.562   , 1200.562   , 1220.561   , 1240.561   ,\n",
       "       1260.561   , 1280.56    , 1300.561   , 1320.56    , 1340.56    ,\n",
       "       1360.56    , 1380.56    , 1400.5588  , 1420.56    , 1440.559   ,\n",
       "       1460.559   , 1480.559   , 1500.558   , 1520.5579  , 1540.559   ,\n",
       "       1560.558   , 1580.558   , 1600.558   , 1620.557   , 1640.557   ,\n",
       "       1660.5569  , 1680.5569  , 1700.557   , 1720.557   , 1740.556   ,\n",
       "       1760.556   , 1780.556   , 1800.556   , 1820.556   , 1840.556   ,\n",
       "       1860.555   , 1880.554   , 1900.554   , 1920.554   , 1940.553   ,\n",
       "       1960.5541  , 1980.5529  , 2000.5529  , 2020.5531  , 2040.5531  ,\n",
       "       2060.5532  , 2080.553   , 2100.552   , 2120.552   , 2140.552   ,\n",
       "       2160.551   , 2180.551   , 2200.551   , 2220.551   , 2240.55    ,\n",
       "       2260.55    , 2280.55    , 2300.55    , 2320.55    , 2340.549   ,\n",
       "       2360.549   , 2380.549   , 2400.548   , 2420.548   , 2440.548   ,\n",
       "       2460.547   , 2480.547   , 2500.547   , 2520.547   , 2540.547   ,\n",
       "       2560.547   , 2580.547   , 2600.546   , 2620.546   , 2640.546   ,\n",
       "       2660.545   , 2680.545   , 2700.5447  , 2720.545   , 2740.544   ,\n",
       "       2760.544   , 2780.544   , 2800.544   , 2820.544   , 2840.543   ,\n",
       "       2860.543   , 2880.543   , 2900.542   , 2920.542   , 2940.541   ,\n",
       "       2960.541   , 2980.54    ], dtype=float32)"
      ]
     },
     "execution_count": 12,
     "metadata": {},
     "output_type": "execute_result"
    }
   ],
   "source": [
    "height[ind]/1e3"
   ]
  },
  {
   "cell_type": "code",
   "execution_count": 13,
   "metadata": {},
   "outputs": [],
   "source": [
    "data, header = sunpy.io.fits.read(\n",
    "        base_path / vx_file\n",
    "    )[0]"
   ]
  },
  {
   "cell_type": "code",
   "execution_count": 14,
   "metadata": {},
   "outputs": [],
   "source": [
    "vx = np.zeros((1, 504, 504, 177))"
   ]
  },
  {
   "cell_type": "code",
   "execution_count": 15,
   "metadata": {},
   "outputs": [],
   "source": [
    "vx[0] = np.transpose(\n",
    "        data[ind],\n",
    "        axes=(1, 2, 0)\n",
    "    )"
   ]
  },
  {
   "cell_type": "code",
   "execution_count": 16,
   "metadata": {},
   "outputs": [],
   "source": [
    "vy_file = 'BIFROST_en024048_hion_uy_412.fits'"
   ]
  },
  {
   "cell_type": "code",
   "execution_count": 17,
   "metadata": {},
   "outputs": [],
   "source": [
    "data, header = sunpy.io.fits.read(\n",
    "        base_path / vy_file\n",
    "    )[0]"
   ]
  },
  {
   "cell_type": "code",
   "execution_count": 18,
   "metadata": {},
   "outputs": [],
   "source": [
    "vy = np.zeros((1, 504, 504, 177))"
   ]
  },
  {
   "cell_type": "code",
   "execution_count": 19,
   "metadata": {},
   "outputs": [],
   "source": [
    "vy[0] = np.transpose(\n",
    "        data[ind],\n",
    "        axes=(1, 2, 0)\n",
    "    )"
   ]
  },
  {
   "cell_type": "code",
   "execution_count": 20,
   "metadata": {},
   "outputs": [],
   "source": [
    "vx = vx[:, :, :, ::-1]\n",
    "vy = vy[:, :, :, ::-1]"
   ]
  },
  {
   "cell_type": "code",
   "execution_count": 23,
   "metadata": {},
   "outputs": [],
   "source": [
    "f = h5py.File('/home/harsh/BifrostRun/bifrost_en024048_hion_0_504_0_504_-500000.0_3000000.0.nc', 'r+')"
   ]
  },
  {
   "cell_type": "code",
   "execution_count": 25,
   "metadata": {},
   "outputs": [
    {
     "ename": "OSError",
     "evalue": "Unable to create link (name already exists)",
     "output_type": "error",
     "traceback": [
      "\u001b[0;31m---------------------------------------------------------------------------\u001b[0m",
      "\u001b[0;31mOSError\u001b[0m                                   Traceback (most recent call last)",
      "\u001b[0;32m<ipython-input-25-fe814a8da730>\u001b[0m in \u001b[0;36m<module>\u001b[0;34m\u001b[0m\n\u001b[0;32m----> 1\u001b[0;31m \u001b[0mf\u001b[0m\u001b[0;34m[\u001b[0m\u001b[0;34m'velocity_x'\u001b[0m\u001b[0;34m]\u001b[0m \u001b[0;34m=\u001b[0m \u001b[0mvx\u001b[0m\u001b[0;34m\u001b[0m\u001b[0;34m\u001b[0m\u001b[0m\n\u001b[0m",
      "\u001b[0;32m~/CourseworkRepo/HMIAnalysis/env/lib/python3.7/site-packages/h5py/_hl/group.py\u001b[0m in \u001b[0;36m__setitem__\u001b[0;34m(self, name, obj)\u001b[0m\n\u001b[1;32m    431\u001b[0m             \u001b[0;32melse\u001b[0m\u001b[0;34m:\u001b[0m\u001b[0;34m\u001b[0m\u001b[0;34m\u001b[0m\u001b[0m\n\u001b[1;32m    432\u001b[0m                 \u001b[0mds\u001b[0m \u001b[0;34m=\u001b[0m \u001b[0mself\u001b[0m\u001b[0;34m.\u001b[0m\u001b[0mcreate_dataset\u001b[0m\u001b[0;34m(\u001b[0m\u001b[0;32mNone\u001b[0m\u001b[0;34m,\u001b[0m \u001b[0mdata\u001b[0m\u001b[0;34m=\u001b[0m\u001b[0mobj\u001b[0m\u001b[0;34m)\u001b[0m\u001b[0;34m\u001b[0m\u001b[0;34m\u001b[0m\u001b[0m\n\u001b[0;32m--> 433\u001b[0;31m                 \u001b[0mh5o\u001b[0m\u001b[0;34m.\u001b[0m\u001b[0mlink\u001b[0m\u001b[0;34m(\u001b[0m\u001b[0mds\u001b[0m\u001b[0;34m.\u001b[0m\u001b[0mid\u001b[0m\u001b[0;34m,\u001b[0m \u001b[0mself\u001b[0m\u001b[0;34m.\u001b[0m\u001b[0mid\u001b[0m\u001b[0;34m,\u001b[0m \u001b[0mname\u001b[0m\u001b[0;34m,\u001b[0m \u001b[0mlcpl\u001b[0m\u001b[0;34m=\u001b[0m\u001b[0mlcpl\u001b[0m\u001b[0;34m)\u001b[0m\u001b[0;34m\u001b[0m\u001b[0;34m\u001b[0m\u001b[0m\n\u001b[0m\u001b[1;32m    434\u001b[0m \u001b[0;34m\u001b[0m\u001b[0m\n\u001b[1;32m    435\u001b[0m     \u001b[0;34m@\u001b[0m\u001b[0mwith_phil\u001b[0m\u001b[0;34m\u001b[0m\u001b[0;34m\u001b[0m\u001b[0m\n",
      "\u001b[0;32mh5py/_objects.pyx\u001b[0m in \u001b[0;36mh5py._objects.with_phil.wrapper\u001b[0;34m()\u001b[0m\n",
      "\u001b[0;32mh5py/_objects.pyx\u001b[0m in \u001b[0;36mh5py._objects.with_phil.wrapper\u001b[0;34m()\u001b[0m\n",
      "\u001b[0;32mh5py/h5o.pyx\u001b[0m in \u001b[0;36mh5py.h5o.link\u001b[0;34m()\u001b[0m\n",
      "\u001b[0;31mOSError\u001b[0m: Unable to create link (name already exists)"
     ]
    }
   ],
   "source": [
    "f['velocity_x'] = vx"
   ]
  },
  {
   "cell_type": "code",
   "execution_count": 26,
   "metadata": {},
   "outputs": [],
   "source": [
    "f['velocity_y'] = vy"
   ]
  },
  {
   "cell_type": "code",
   "execution_count": 27,
   "metadata": {},
   "outputs": [],
   "source": [
    "f.close()"
   ]
  },
  {
   "cell_type": "code",
   "execution_count": null,
   "metadata": {},
   "outputs": [],
   "source": []
  }
 ],
 "metadata": {
  "kernelspec": {
   "display_name": "Python 3",
   "language": "python",
   "name": "python3"
  },
  "language_info": {
   "codemirror_mode": {
    "name": "ipython",
    "version": 3
   },
   "file_extension": ".py",
   "mimetype": "text/x-python",
   "name": "python",
   "nbconvert_exporter": "python",
   "pygments_lexer": "ipython3",
   "version": "3.7.12"
  }
 },
 "nbformat": 4,
 "nbformat_minor": 4
}
