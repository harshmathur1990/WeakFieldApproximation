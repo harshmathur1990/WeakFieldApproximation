{
 "cells": [
  {
   "cell_type": "code",
   "execution_count": 1,
   "metadata": {
    "pycharm": {
     "name": "#%%\n"
    }
   },
   "outputs": [
    {
     "name": "stderr",
     "output_type": "stream",
     "text": [
      "/home/harsh/CourseworkRepo/HMIAnalysis/env/lib/python3.7/site-packages/h5py/__init__.py:39: UserWarning: h5py is running against HDF5 1.12.2 when it was built against 1.12.1, this may cause problems\n",
      "  '{0}.{1}.{2}'.format(*version.hdf5_built_version_tuple)\n"
     ]
    }
   ],
   "source": [
    "import numpy as np\n",
    "import h5py\n",
    "import matplotlib.pyplot as plt\n",
    "from matplotlib.widgets import Slider, Button\n",
    "import sunpy.io.fits\n",
    "import matplotlib.pyplot as plt\n",
    "from pathlib import Path\n",
    "from matplotlib.gridspec import GridSpec\n",
    "from matplotlib.ticker import MultipleLocator\n",
    "%matplotlib qt5"
   ]
  },
  {
   "cell_type": "code",
   "execution_count": 2,
   "metadata": {
    "pycharm": {
     "name": "#%%\n"
    }
   },
   "outputs": [],
   "source": [
    "base_path = Path('/home/harsh/SpinorNagaraju/maps_1/stic/processed_inputs/')"
   ]
  },
  {
   "cell_type": "code",
   "execution_count": 3,
   "metadata": {
    "pycharm": {
     "name": "#%%\n"
    }
   },
   "outputs": [],
   "source": [
    "filename = 'alignedspectra_scan1_map01_Ca.fits_stic_profiles.nc'"
   ]
  },
  {
   "cell_type": "code",
   "execution_count": 4,
   "metadata": {
    "pycharm": {
     "name": "#%%\n"
    }
   },
   "outputs": [],
   "source": [
    "f = h5py.File(base_path / filename, 'r')\n",
    "ind = np.where(f['profiles'][0, 0, 0, :, 0] != 0)[0]\n",
    "wave = f['wav'][ind]\n",
    "f.close()"
   ]
  },
  {
   "cell_type": "code",
   "execution_count": 5,
   "metadata": {
    "pycharm": {
     "name": "#%%\n"
    }
   },
   "outputs": [],
   "source": [
    "def get_spectral_image(scannumber, stokes):\n",
    "    f = h5py.File(base_path / filename, 'r')\n",
    "    data = f['profiles'][0, scannumber, :, ind, stokes]\n",
    "    f.close()\n",
    "    return data\n",
    "\n",
    "spatial_image = None\n",
    "max_val = None\n",
    "\n",
    "def get_spatial_image(wavelength_position):\n",
    "    f = h5py.File(base_path / filename, 'r')\n",
    "    data = f['profiles'][0, :, :, ind[wavelength_position], 0]\n",
    "    f.close()\n",
    "    return data\n",
    "\n",
    "def get_stokes_params(scannumber, slitposition):\n",
    "    f = h5py.File(base_path / filename, 'r')\n",
    "    data = f['profiles'][()][0, scannumber, slitposition, ind, :].T\n",
    "    f.close()\n",
    "    return data"
   ]
  },
  {
   "cell_type": "code",
   "execution_count": 6,
   "metadata": {
    "pycharm": {
     "name": "#%%\n"
    }
   },
   "outputs": [
    {
     "data": {
      "text/plain": [
       "<matplotlib.image.AxesImage at 0x7f5e44187210>"
      ]
     },
     "execution_count": 6,
     "metadata": {},
     "output_type": "execute_result"
    }
   ],
   "source": [
    "plt.imshow(get_spatial_image(300), cmap='gray', origin='lower')"
   ]
  },
  {
   "cell_type": "code",
   "execution_count": 18,
   "metadata": {
    "pycharm": {
     "name": "#%%\n"
    }
   },
   "outputs": [
    {
     "data": {
      "text/plain": [
       "<matplotlib.image.AxesImage at 0x7f3740747610>"
      ]
     },
     "execution_count": 18,
     "metadata": {},
     "output_type": "execute_result"
    }
   ],
   "source": [
    "plt.imshow(get_spectral_image(15, 3), cmap='gray', origin='lower')"
   ]
  },
  {
   "cell_type": "code",
   "execution_count": 8,
   "metadata": {
    "pycharm": {
     "name": "#%%\n"
    }
   },
   "outputs": [
    {
     "name": "stdout",
     "output_type": "stream",
     "text": [
      "(306,) (4, 306)\n"
     ]
    }
   ],
   "source": [
    "size = plt.rcParams['lines.markersize']\n",
    "scannumber = 12\n",
    "slitposition = 40\n",
    "waveposition = 0\n",
    "stokesposition = 0\n",
    "\n",
    "fig, axs = plt.subplots(3, 2, figsize=(10 * 1920/1080, 10))\n",
    "im01a = axs[0][1].imshow(get_spatial_image(waveposition), cmap='gray', origin='lower')\n",
    "im00 = axs[0][0].imshow(get_spectral_image(scannumber, stokesposition), cmap='gray', origin='lower')\n",
    "\n",
    "iquv = get_stokes_params(scannumber, slitposition).astype(np.float64)\n",
    "for i in range(1, 4):\n",
    "    iquv[i] = np.round(iquv[i] * 100 / iquv[0], 2)\n",
    "print (wave.shape, iquv.shape)\n",
    "im10, = axs[1][0].plot(wave, iquv[0])\n",
    "im10b = axs[1][0].axvline(wave[waveposition], linestyle='--', color='black', linewidth=0.5)\n",
    "im11, = axs[1][1].plot(wave, iquv[1])\n",
    "im20, = axs[2][0].plot(wave, iquv[2])\n",
    "im21, = axs[2][1].plot(wave, iquv[3])\n",
    "\n",
    "# axs[1][0].set_ylim(0.35, 0.8)\n",
    "axs[1][0].set_ylim(np.abs(iquv[0]).min() * 0.95, np.abs(iquv[0]).max() * 1.05)\n",
    "axs[1][1].set_ylim(-np.abs(iquv[1]).max() * 1.05, np.abs(iquv[1]).max() * 1.05)\n",
    "axs[2][0].set_ylim(-np.abs(iquv[2]).max() * 1.05, np.abs(iquv[2]).max() * 1.05)\n",
    "axs[2][1].set_ylim(-np.abs(iquv[3]).max() * 1.05, np.abs(iquv[3]).max() * 1.05)\n",
    "\n",
    "xx = [slitposition]\n",
    "yy = [scannumber]\n",
    "\n",
    "im01b = axs[0][1].scatter(slitposition, scannumber, marker='+', color='red', linewidths=1, s=(size**2) * 8)\n",
    "im01c, = axs[0][1].plot(np.ones(60) * scannumber, linestyle='--', color='black', linewidth='0.5')\n",
    "\n",
    "axs[0][0].text(\n",
    "    -0.22,\n",
    "    0.5,\n",
    "    'Stokes',\n",
    "    transform=axs[0][0].transAxes,\n",
    "    rotation=90\n",
    ")\n",
    "\n",
    "# xtick_pos = np.array([8540, 8542, 8544, 8546, 8548])\n",
    "# axs[0][0].set_xticks((xtick_pos[1:] - wave[0]) / (wave[1] - wave[0]), xtick_pos[1:])\n",
    "# axs[0][0].set_yticks(np.array([0, 5, 10, 15])/0.038, [0, 10, 20, 30, 40, 50])\n",
    "# axs[0][1].set_xticks(np.array([0, 10, 20, 30, 40, 50, 60])/0.135, [0, 10, 20, 30, 40, 50])\n",
    "# axs[0][1].set_yticks(np.array([0, 10, 20])/0.135, [0, 10, 20])\n",
    "\n",
    "# axs[0][0].yaxis.set_minor_locator(MultipleLocator(1/0.135))\n",
    "\n",
    "# axs[0][1].xaxis.set_minor_locator(MultipleLocator(1/0.135))\n",
    "# axs[0][1].yaxis.set_minor_locator(MultipleLocator(1/0.135))\n",
    "\n",
    "# axs[1][0].xaxis.set_minor_locator(MultipleLocator(0.5))\n",
    "# axs[1][1].xaxis.set_minor_locator(MultipleLocator(0.5))\n",
    "# axs[2][0].xaxis.set_minor_locator(MultipleLocator(0.5))\n",
    "# axs[2][1].xaxis.set_minor_locator(MultipleLocator(0.5))\n",
    "\n",
    "# axs[0][0].set_ylabel(r'x [arcsec]')\n",
    "# axs[0][1].set_xlabel(r'x [arcsec]')\n",
    "# axs[0][1].set_ylabel(r'y [arcsec]')\n",
    "# axs[1][0].set_ylabel(r'$I/I_{c}$')\n",
    "# axs[1][1].set_ylabel(r'$Q/I$ [%]')\n",
    "# axs[2][0].set_ylabel(r'$U/I$ [%]')\n",
    "# axs[2][1].set_ylabel(r'$V/I$ [%]')\n",
    "# axs[2][0].set_xlabel(r'Wavelength [$\\mathrm{\\AA}$]')\n",
    "# axs[2][1].set_xlabel(r'Wavelength [$\\mathrm{\\AA}$]')\n",
    "\n",
    "stokes_axs = plt.axes([0.03, 0.685, 0.03, 0.25])\n",
    "scan_axs = plt.axes([0.13, 0.96, 0.3, 0.03])\n",
    "wave_axs = plt.axes([0.6, 0.96, 0.25, 0.03])\n",
    "\n",
    "def update_stokes(val):\n",
    "    global scannumber, stokesposition\n",
    "    stokesposition = val\n",
    "    dd = get_spectral_image(scannumber, stokesposition)\n",
    "    im00.set_data(dd)\n",
    "    im00.set_clim(dd.min(), dd.max())\n",
    "    fig.canvas.draw_idle()\n",
    "\n",
    "def update_scan(val):\n",
    "    global scannumber, stokesposition\n",
    "    scannumber = val\n",
    "    dd = get_spectral_image(scannumber, stokesposition)\n",
    "    im00.set_data(dd)\n",
    "    im00.set_clim(dd.min(), dd.max())\n",
    "    im01c.set_ydata(np.ones(440) * scannumber)\n",
    "    fig.canvas.draw_idle()\n",
    "\n",
    "def update_wave(val):\n",
    "    global waveposition\n",
    "    waveposition = np.argmin(np.abs(wave - val))\n",
    "    dd = get_spatial_image(waveposition)\n",
    "    im01a.set_data(dd)\n",
    "    im01a.set_clim(dd.min(), dd.max())\n",
    "    im10b.set_xdata(wave[waveposition])\n",
    "    fig.canvas.draw_idle()\n",
    "\n",
    "def on_click_event(event):\n",
    "    global scannumber, slitposition, xx, yy\n",
    "    ax = event.inaxes\n",
    "\n",
    "    if ax is None or ax != axs[0][1]:\n",
    "        return\n",
    "    \n",
    "    slitposition = np.round(event.xdata, 0).astype(np.int64)\n",
    "    scannumber = np.round(event.ydata, 0).astype(np.int64)\n",
    "\n",
    "    iquv = get_stokes_params(scannumber, slitposition).astype(np.float64)\n",
    "    for i in range(1, 4):\n",
    "        iquv[i] = np.round(iquv[i] * 100 / iquv[0], 2)\n",
    "\n",
    "    im10.set_ydata(iquv[0])\n",
    "    im11.set_ydata(iquv[1])\n",
    "    im20.set_ydata(iquv[2])\n",
    "    im21.set_ydata(iquv[3])\n",
    "    \n",
    "    axs[1][0].set_ylim(np.abs(iquv[0]).min() * 0.95, np.abs(iquv[0]).max() * 1.05)\n",
    "    axs[1][1].set_ylim(-np.abs(iquv[1]).max() * 1.05, np.abs(iquv[1]).max() * 1.05)\n",
    "    axs[2][0].set_ylim(-np.abs(iquv[2]).max() * 1.05, np.abs(iquv[2]).max() * 1.05)\n",
    "    axs[2][1].set_ylim(-np.abs(iquv[3]).max() * 1.05, np.abs(iquv[3]).max() * 1.05)\n",
    "    \n",
    "    xx = [slitposition]\n",
    "    yy = [scannumber]\n",
    "    im01b.set_offsets(np.c_[xx,yy])\n",
    "\n",
    "    fig.canvas.draw_idle()\n",
    "\n",
    "stokes_slider = Slider(\n",
    "    ax=stokes_axs,\n",
    "    label='',\n",
    "    valmin=0,\n",
    "    valmax=3,\n",
    "    valinit=0,\n",
    "    valstep=1,\n",
    "    orientation='vertical'\n",
    ")\n",
    "scan_slider = Slider(\n",
    "    ax=scan_axs,\n",
    "    label='',\n",
    "    valmin=0,\n",
    "    valmax=17,\n",
    "    valinit=scannumber,\n",
    "    valstep=1\n",
    ")\n",
    "wave_slider = Slider(\n",
    "    ax=wave_axs,\n",
    "    label='',\n",
    "    valmin=0,\n",
    "    valmax=wave.size,\n",
    "    valinit=0,\n",
    "    valstep=1\n",
    ")\n",
    "stokes_slider.on_changed(update_stokes)\n",
    "scan_slider.on_changed(update_scan)\n",
    "wave_slider.on_changed(update_wave)\n",
    "fig.canvas.mpl_connect('button_press_event', on_click_event)\n",
    "\n",
    "plt.subplots_adjust(left=0.1, bottom=0.05, right=0.99, top=0.95, wspace=0.2, hspace=0.2)\n",
    "plt.show()"
   ]
  },
  {
   "cell_type": "code",
   "execution_count": 119,
   "metadata": {
    "pycharm": {
     "name": "#%%\n"
    }
   },
   "outputs": [
    {
     "data": {
      "text/plain": [
       "array([100, 101, 102])"
      ]
     },
     "execution_count": 119,
     "metadata": {},
     "output_type": "execute_result"
    }
   ],
   "source": [
    "np.arange(100, 103, 1)"
   ]
  },
  {
   "cell_type": "code",
   "execution_count": 120,
   "metadata": {
    "pycharm": {
     "name": "#%%\n"
    }
   },
   "outputs": [],
   "source": [
    "wave = np.arange(15640.899, 15640.899 + (1010 * 0.039917), 0.039917)"
   ]
  },
  {
   "cell_type": "code",
   "execution_count": 137,
   "metadata": {
    "pycharm": {
     "name": "#%%\n"
    }
   },
   "outputs": [],
   "source": [
    "wave = np.arange(15640.899, 15640.899 + (1010 * 0.039917), 0.039917)"
   ]
  },
  {
   "cell_type": "code",
   "execution_count": 138,
   "metadata": {
    "pycharm": {
     "name": "#%%\n"
    }
   },
   "outputs": [
    {
     "data": {
      "text/plain": [
       "(1011,)"
      ]
     },
     "execution_count": 138,
     "metadata": {},
     "output_type": "execute_result"
    }
   ],
   "source": [
    "wave.shape"
   ]
  },
  {
   "cell_type": "code",
   "execution_count": 139,
   "metadata": {
    "pycharm": {
     "name": "#%%\n"
    }
   },
   "outputs": [
    {
     "data": {
      "text/plain": [
       "array([15640.899   , 15640.938917, 15640.978834, ..., 15681.135336,\n",
       "       15681.175253, 15681.21517 ])"
      ]
     },
     "execution_count": 139,
     "metadata": {},
     "output_type": "execute_result"
    }
   ],
   "source": [
    "wave"
   ]
  },
  {
   "cell_type": "code",
   "execution_count": 145,
   "metadata": {
    "pycharm": {
     "name": "#%%\n"
    }
   },
   "outputs": [
    {
     "data": {
      "text/plain": [
       "array([15640, 15645, 15650, 15655, 15660, 15665, 15670, 15675, 15680])"
      ]
     },
     "execution_count": 145,
     "metadata": {},
     "output_type": "execute_result"
    }
   ],
   "source": [
    "np.arange(15640, 15640+45, 5)"
   ]
  },
  {
   "cell_type": "code",
   "execution_count": 153,
   "metadata": {
    "pycharm": {
     "name": "#%%\n"
    }
   },
   "outputs": [
    {
     "data": {
      "text/plain": [
       "array([-22.5217326 , 102.73818173, 227.99809605, 353.25801037,\n",
       "       478.51792469, 603.77783902, 729.03775334, 854.29766766,\n",
       "       979.55758198])"
      ]
     },
     "execution_count": 153,
     "metadata": {},
     "output_type": "execute_result"
    }
   ],
   "source": [
    "(xtick_pos - 15640.899) / 0.039917"
   ]
  },
  {
   "cell_type": "code",
   "execution_count": 203,
   "metadata": {
    "pycharm": {
     "name": "#%%\n"
    }
   },
   "outputs": [],
   "source": [
    "splitting = 15648.459-15648.066"
   ]
  },
  {
   "cell_type": "code",
   "execution_count": 204,
   "metadata": {
    "pycharm": {
     "name": "#%%\n"
    }
   },
   "outputs": [],
   "source": [
    "mag_field = splitting / (4.67e-13 * 15648.514**2)"
   ]
  },
  {
   "cell_type": "code",
   "execution_count": 205,
   "metadata": {
    "pycharm": {
     "name": "#%%\n"
    },
    "scrolled": true
   },
   "outputs": [
    {
     "data": {
      "text/plain": [
       "3436.603786618302"
      ]
     },
     "execution_count": 205,
     "metadata": {},
     "output_type": "execute_result"
    }
   ],
   "source": [
    "mag_field"
   ]
  },
  {
   "cell_type": "code",
   "execution_count": null,
   "metadata": {
    "pycharm": {
     "name": "#%%\n"
    }
   },
   "outputs": [],
   "source": []
  }
 ],
 "metadata": {
  "kernelspec": {
   "display_name": "Python 3",
   "language": "python",
   "name": "python3"
  },
  "language_info": {
   "codemirror_mode": {
    "name": "ipython",
    "version": 3
   },
   "file_extension": ".py",
   "mimetype": "text/x-python",
   "name": "python",
   "nbconvert_exporter": "python",
   "pygments_lexer": "ipython3",
   "version": "3.7.12"
  }
 },
 "nbformat": 4,
 "nbformat_minor": 5
}
