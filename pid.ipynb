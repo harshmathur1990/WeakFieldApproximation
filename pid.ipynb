{
 "cells": [
  {
   "cell_type": "code",
   "execution_count": 144,
   "id": "24446fdc",
   "metadata": {},
   "outputs": [],
   "source": [
    "%matplotlib qt5\n",
    "import numpy as np\n",
    "import matplotlib.pyplot as plt\n",
    "import scipy.optimize"
   ]
  },
  {
   "cell_type": "code",
   "execution_count": 45,
   "id": "a3821d09",
   "metadata": {},
   "outputs": [],
   "source": [
    "values = np.sin(np.deg2rad(2 * np.pi * np.arange(90000)) / 100) * 20"
   ]
  },
  {
   "cell_type": "code",
   "execution_count": 46,
   "id": "372e9a1c",
   "metadata": {},
   "outputs": [
    {
     "data": {
      "text/plain": [
       "[<matplotlib.lines.Line2D at 0x7feb6c0f7d60>]"
      ]
     },
     "execution_count": 46,
     "metadata": {},
     "output_type": "execute_result"
    }
   ],
   "source": [
    "plt.plot(np.arange(90000) / 500, values)"
   ]
  },
  {
   "cell_type": "code",
   "execution_count": 49,
   "id": "30e86b90",
   "metadata": {},
   "outputs": [],
   "source": [
    "s_values = np.sin(np.deg2rad(2 * np.pi * 500 * np.arange(90000))) * 5"
   ]
  },
  {
   "cell_type": "code",
   "execution_count": 50,
   "id": "d690656f",
   "metadata": {},
   "outputs": [
    {
     "data": {
      "text/plain": [
       "[<matplotlib.lines.Line2D at 0x7feb656bf490>]"
      ]
     },
     "execution_count": 50,
     "metadata": {},
     "output_type": "execute_result"
    }
   ],
   "source": [
    "plt.plot(s_values)"
   ]
  },
  {
   "cell_type": "code",
   "execution_count": 51,
   "id": "022f12f8",
   "metadata": {},
   "outputs": [
    {
     "data": {
      "text/plain": [
       "[<matplotlib.lines.Line2D at 0x7feb6544b280>]"
      ]
     },
     "execution_count": 51,
     "metadata": {},
     "output_type": "execute_result"
    }
   ],
   "source": [
    "plt.plot(values + s_values)"
   ]
  },
  {
   "cell_type": "code",
   "execution_count": 55,
   "id": "8794508d",
   "metadata": {},
   "outputs": [],
   "source": [
    "total = values + s_values"
   ]
  },
  {
   "cell_type": "code",
   "execution_count": 186,
   "id": "b468f076",
   "metadata": {},
   "outputs": [],
   "source": [
    "kp = 0.5\n",
    "ki = 0.01\n",
    "kd = 0.5\n",
    "ni=50\n",
    "nd=5\n",
    "new_values = list()\n",
    "set_point = 0\n",
    "prev_error = 0\n",
    "prev_err_list = np.zeros(int(ni))\n",
    "prev_derv_list = np.zeros(int(nd))\n",
    "corr_err_list = list()\n",
    "ii = 0\n",
    "dd = 0\n",
    "cilist = list()\n",
    "cd_list = list()\n",
    "for index, val in enumerate(total):\n",
    "    if ii >= ni:\n",
    "        ii = 0\n",
    "    if dd >= nd:\n",
    "        dd = 0\n",
    "    err = set_point - val\n",
    "    der_error = err - prev_error\n",
    "    prev_err_list[ii] = err\n",
    "    prev_derv_list[dd] = der_error\n",
    "    cierror = np.sum(prev_err_list) / ni\n",
    "    cderror = np.sum(prev_derv_list) / nd\n",
    "    cilist.append(cierror)\n",
    "    cd_list.append(cderror)\n",
    "    corr_err = kp * err + ki * cierror + kd * cderror\n",
    "    prev_error = err\n",
    "    new_values.append(val + corr_err)"
   ]
  },
  {
   "cell_type": "code",
   "execution_count": 187,
   "id": "aebbdba3",
   "metadata": {},
   "outputs": [
    {
     "data": {
      "text/plain": [
       "[<matplotlib.lines.Line2D at 0x7feaafc95b70>]"
      ]
     },
     "execution_count": 187,
     "metadata": {},
     "output_type": "execute_result"
    }
   ],
   "source": [
    "plt.plot(new_values)"
   ]
  },
  {
   "cell_type": "code",
   "execution_count": 183,
   "id": "21aa2997",
   "metadata": {},
   "outputs": [
    {
     "data": {
      "text/plain": [
       "0.14286351550683776"
      ]
     },
     "execution_count": 183,
     "metadata": {},
     "output_type": "execute_result"
    }
   ],
   "source": [
    "np.std(new_values)"
   ]
  },
  {
   "cell_type": "code",
   "execution_count": 169,
   "id": "46a03a8b",
   "metadata": {},
   "outputs": [],
   "source": [
    "def method_n(args):\n",
    "    kp, ki, kd, ni, nd = args\n",
    "    new_values = list()\n",
    "    set_point = 0\n",
    "    prev_error = 0\n",
    "    prev_err_list = np.zeros(int(ni))\n",
    "    prev_derv_list = np.zeros(int(nd))\n",
    "    corr_err_list = list()\n",
    "    ii = 0\n",
    "    dd = 0\n",
    "    cilist = list()\n",
    "    cd_list = list()\n",
    "    for index, val in enumerate(total):\n",
    "        if ii >= ni:\n",
    "            ii = 0\n",
    "        if dd >= nd:\n",
    "            dd = 0\n",
    "        err = set_point - val\n",
    "        der_error = err - prev_error\n",
    "        prev_err_list[ii] = err\n",
    "        prev_derv_list[dd] = der_error\n",
    "        cierror = np.sum(prev_err_list) / ni\n",
    "        cderror = np.sum(prev_derv_list) / nd\n",
    "        cilist.append(cierror)\n",
    "        cd_list.append(cderror)\n",
    "        corr_err = kp * err + ki * cierror + kd * cderror\n",
    "        prev_error = err\n",
    "        new_values.append(val + corr_err)\n",
    "    return np.std(new_values)\n",
    "    "
   ]
  },
  {
   "cell_type": "code",
   "execution_count": 170,
   "id": "2cd5dc83",
   "metadata": {},
   "outputs": [],
   "source": [
    "res = scipy.optimize.minimize(method_n, x0=(0.5, 0, 0.5, 50, 3), tol=1e-6)"
   ]
  },
  {
   "cell_type": "code",
   "execution_count": 171,
   "id": "564a5425",
   "metadata": {},
   "outputs": [
    {
     "data": {
      "text/plain": [
       "  message: Desired error not necessarily achieved due to precision loss.\n",
       "  success: False\n",
       "   status: 2\n",
       "      fun: 2.449918046467608e-06\n",
       "        x: [ 9.998e-01  1.117e-02  1.360e-06  5.000e+01  3.173e+00]\n",
       "      nit: 22\n",
       "      jac: [-5.112e+00 -1.133e-01  1.409e+00  2.537e-05 -6.030e-07]\n",
       " hess_inv: [[ 2.793e-04 -1.401e-02 ...  9.589e-05  1.091e-06]\n",
       "            [-1.401e-02  7.031e-01 ... -4.597e-03 -5.350e-05]\n",
       "            ...\n",
       "            [ 9.589e-05 -4.597e-03 ...  1.000e+00  1.473e-06]\n",
       "            [ 1.091e-06 -5.350e-05 ...  1.473e-06  9.234e-01]]\n",
       "     nfev: 612\n",
       "     njev: 100"
      ]
     },
     "execution_count": 171,
     "metadata": {},
     "output_type": "execute_result"
    }
   ],
   "source": [
    "res"
   ]
  },
  {
   "cell_type": "code",
   "execution_count": null,
   "id": "daf482ff",
   "metadata": {},
   "outputs": [],
   "source": []
  }
 ],
 "metadata": {
  "kernelspec": {
   "display_name": "Python 3 (ipykernel)",
   "language": "python",
   "name": "python3"
  },
  "language_info": {
   "codemirror_mode": {
    "name": "ipython",
    "version": 3
   },
   "file_extension": ".py",
   "mimetype": "text/x-python",
   "name": "python",
   "nbconvert_exporter": "python",
   "pygments_lexer": "ipython3",
   "version": "3.10.9"
  }
 },
 "nbformat": 4,
 "nbformat_minor": 5
}
